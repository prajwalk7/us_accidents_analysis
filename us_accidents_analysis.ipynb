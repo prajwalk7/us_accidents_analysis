{
  "cells": [
    {
      "cell_type": "markdown",
      "source": [
        "NOTE - The Dataset used in this workshop was updated recently from Kaggle, here are the things changed since the live workshop.\n",
        "\n",
        "The filename of the dataset has been updated, the new filename is './us-accidents/US_Accidents_Dec20_updated.csv'. Please change the filename if you are getting errors while creating the dataframe.\n",
        "The \"Source\" column is removed from the updated dataset. Any mention of \"Source\" in this notebook can be ignored while using the updated dataset.\n",
        "US Accidents Exploratory Data Analysis\n",
        "TODO - talk about EDA\n",
        "\n",
        "TODO - talk about the dataset (source, what it contains, how it will be useful)\n",
        "\n",
        "Kaggle\n",
        "informaiton about accidents\n",
        "can use useful to prevent accidents\n",
        "mention that this does not contain data about New York"
      ],
      "metadata": {
        "id": "VUBgXocxFFzJ"
      },
      "id": "VUBgXocxFFzJ"
    },
    {
      "cell_type": "code",
      "execution_count": 28,
      "id": "176b57fc",
      "metadata": {
        "id": "176b57fc"
      },
      "outputs": [],
      "source": [
        "pip install opendatasets --upgrade --quiet"
      ]
    },
    {
      "cell_type": "code",
      "execution_count": 2,
      "id": "cd752fc3",
      "metadata": {
        "colab": {
          "base_uri": "https://localhost:8080/"
        },
        "id": "cd752fc3",
        "outputId": "989a30bc-ecee-4368-a330-18c729722493"
      },
      "outputs": [
        {
          "output_type": "stream",
          "name": "stdout",
          "text": [
            "Please provide your Kaggle credentials to download this dataset. Learn more: http://bit.ly/kaggle-creds\n",
            "Your Kaggle username: prajwalk7\n",
            "Your Kaggle Key: ··········\n",
            "Downloading us-accidents.zip to ./us-accidents\n"
          ]
        },
        {
          "output_type": "stream",
          "name": "stderr",
          "text": [
            "100%|██████████| 269M/269M [00:01<00:00, 157MB/s]\n"
          ]
        },
        {
          "output_type": "stream",
          "name": "stdout",
          "text": [
            "\n"
          ]
        }
      ],
      "source": [
        "import opendatasets as od\n",
        "\n",
        "download_url = 'https://www.kaggle.com/datasets/sobhanmoosavi/us-accidents'\n",
        "od.download(download_url)"
      ]
    },
    {
      "cell_type": "code",
      "execution_count": 3,
      "id": "8e033037",
      "metadata": {
        "colab": {
          "base_uri": "https://localhost:8080/",
          "height": 36
        },
        "id": "8e033037",
        "outputId": "f668e417-5c87-4222-804d-190c658a0767"
      },
      "outputs": [
        {
          "output_type": "execute_result",
          "data": {
            "text/plain": [
              "'/content'"
            ],
            "application/vnd.google.colaboratory.intrinsic+json": {
              "type": "string"
            }
          },
          "metadata": {},
          "execution_count": 3
        }
      ],
      "source": [
        "import os\n",
        "os.getcwd()"
      ]
    },
    {
      "cell_type": "code",
      "source": [
        "os.chdir('./us-accidents')"
      ],
      "metadata": {
        "id": "D4xsgKDoKzAk"
      },
      "id": "D4xsgKDoKzAk",
      "execution_count": 4,
      "outputs": []
    },
    {
      "cell_type": "code",
      "execution_count": 5,
      "id": "4dd8a13f",
      "metadata": {
        "colab": {
          "base_uri": "https://localhost:8080/"
        },
        "id": "4dd8a13f",
        "outputId": "5228ca2a-d649-42f4-8a50-7f99289ab97e"
      },
      "outputs": [
        {
          "output_type": "execute_result",
          "data": {
            "text/plain": [
              "['US_Accidents_Dec21_updated.csv']"
            ]
          },
          "metadata": {},
          "execution_count": 5
        }
      ],
      "source": [
        "os.listdir('.')"
      ]
    },
    {
      "cell_type": "markdown",
      "id": "5982f1a8",
      "metadata": {
        "id": "5982f1a8"
      },
      "source": [
        "### Data Preparation and Cleaning\n",
        "\n",
        "1. Loading the file using Pandas\n",
        "2. Look at what the data looks like and the columns given\n",
        "3. Fix any missing or incorrect values"
      ]
    },
    {
      "cell_type": "code",
      "execution_count": 6,
      "id": "8943cf4b",
      "metadata": {
        "id": "8943cf4b"
      },
      "outputs": [],
      "source": [
        "import pandas as pd\n",
        "import numpy as np\n",
        "import matplotlib.pyplot as plt\n",
        "import seaborn as sns"
      ]
    },
    {
      "cell_type": "code",
      "execution_count": 7,
      "id": "4748fbe1",
      "metadata": {
        "id": "4748fbe1"
      },
      "outputs": [],
      "source": [
        "df = pd.read_csv('US_Accidents_Dec21_updated.csv')"
      ]
    },
    {
      "cell_type": "code",
      "execution_count": 8,
      "id": "dfb00c49",
      "metadata": {
        "colab": {
          "base_uri": "https://localhost:8080/",
          "height": 490
        },
        "id": "dfb00c49",
        "outputId": "d0fa972a-fd25-431a-cf91-a4adaf356624"
      },
      "outputs": [
        {
          "output_type": "execute_result",
          "data": {
            "text/plain": [
              "    ID  Severity           Start_Time             End_Time  Start_Lat  \\\n",
              "0  A-1         3  2016-02-08 00:37:08  2016-02-08 06:37:08  40.108910   \n",
              "1  A-2         2  2016-02-08 05:56:20  2016-02-08 11:56:20  39.865420   \n",
              "2  A-3         2  2016-02-08 06:15:39  2016-02-08 12:15:39  39.102660   \n",
              "3  A-4         2  2016-02-08 06:51:45  2016-02-08 12:51:45  41.062130   \n",
              "4  A-5         3  2016-02-08 07:53:43  2016-02-08 13:53:43  39.172393   \n",
              "\n",
              "   Start_Lng    End_Lat    End_Lng  Distance(mi)  \\\n",
              "0 -83.092860  40.112060 -83.031870         3.230   \n",
              "1 -84.062800  39.865010 -84.048730         0.747   \n",
              "2 -84.524680  39.102090 -84.523960         0.055   \n",
              "3 -81.537840  41.062170 -81.535470         0.123   \n",
              "4 -84.492792  39.170476 -84.501798         0.500   \n",
              "\n",
              "                                         Description  ...  Roundabout Station  \\\n",
              "0  Between Sawmill Rd/Exit 20 and OH-315/Olentang...  ...       False   False   \n",
              "1                 At OH-4/OH-235/Exit 41 - Accident.  ...       False   False   \n",
              "2                   At I-71/US-50/Exit 1 - Accident.  ...       False   False   \n",
              "3                    At Dart Ave/Exit 21 - Accident.  ...       False   False   \n",
              "4                 At Mitchell Ave/Exit 6 - Accident.  ...       False   False   \n",
              "\n",
              "    Stop Traffic_Calming Traffic_Signal Turning_Loop Sunrise_Sunset  \\\n",
              "0  False           False          False        False          Night   \n",
              "1  False           False          False        False          Night   \n",
              "2  False           False          False        False          Night   \n",
              "3  False           False          False        False          Night   \n",
              "4  False           False          False        False            Day   \n",
              "\n",
              "  Civil_Twilight Nautical_Twilight Astronomical_Twilight  \n",
              "0          Night             Night                 Night  \n",
              "1          Night             Night                 Night  \n",
              "2          Night             Night                   Day  \n",
              "3          Night               Day                   Day  \n",
              "4            Day               Day                   Day  \n",
              "\n",
              "[5 rows x 47 columns]"
            ],
            "text/html": [
              "\n",
              "  <div id=\"df-2264d363-206c-4298-8ce7-fd68a153336d\">\n",
              "    <div class=\"colab-df-container\">\n",
              "      <div>\n",
              "<style scoped>\n",
              "    .dataframe tbody tr th:only-of-type {\n",
              "        vertical-align: middle;\n",
              "    }\n",
              "\n",
              "    .dataframe tbody tr th {\n",
              "        vertical-align: top;\n",
              "    }\n",
              "\n",
              "    .dataframe thead th {\n",
              "        text-align: right;\n",
              "    }\n",
              "</style>\n",
              "<table border=\"1\" class=\"dataframe\">\n",
              "  <thead>\n",
              "    <tr style=\"text-align: right;\">\n",
              "      <th></th>\n",
              "      <th>ID</th>\n",
              "      <th>Severity</th>\n",
              "      <th>Start_Time</th>\n",
              "      <th>End_Time</th>\n",
              "      <th>Start_Lat</th>\n",
              "      <th>Start_Lng</th>\n",
              "      <th>End_Lat</th>\n",
              "      <th>End_Lng</th>\n",
              "      <th>Distance(mi)</th>\n",
              "      <th>Description</th>\n",
              "      <th>...</th>\n",
              "      <th>Roundabout</th>\n",
              "      <th>Station</th>\n",
              "      <th>Stop</th>\n",
              "      <th>Traffic_Calming</th>\n",
              "      <th>Traffic_Signal</th>\n",
              "      <th>Turning_Loop</th>\n",
              "      <th>Sunrise_Sunset</th>\n",
              "      <th>Civil_Twilight</th>\n",
              "      <th>Nautical_Twilight</th>\n",
              "      <th>Astronomical_Twilight</th>\n",
              "    </tr>\n",
              "  </thead>\n",
              "  <tbody>\n",
              "    <tr>\n",
              "      <th>0</th>\n",
              "      <td>A-1</td>\n",
              "      <td>3</td>\n",
              "      <td>2016-02-08 00:37:08</td>\n",
              "      <td>2016-02-08 06:37:08</td>\n",
              "      <td>40.108910</td>\n",
              "      <td>-83.092860</td>\n",
              "      <td>40.112060</td>\n",
              "      <td>-83.031870</td>\n",
              "      <td>3.230</td>\n",
              "      <td>Between Sawmill Rd/Exit 20 and OH-315/Olentang...</td>\n",
              "      <td>...</td>\n",
              "      <td>False</td>\n",
              "      <td>False</td>\n",
              "      <td>False</td>\n",
              "      <td>False</td>\n",
              "      <td>False</td>\n",
              "      <td>False</td>\n",
              "      <td>Night</td>\n",
              "      <td>Night</td>\n",
              "      <td>Night</td>\n",
              "      <td>Night</td>\n",
              "    </tr>\n",
              "    <tr>\n",
              "      <th>1</th>\n",
              "      <td>A-2</td>\n",
              "      <td>2</td>\n",
              "      <td>2016-02-08 05:56:20</td>\n",
              "      <td>2016-02-08 11:56:20</td>\n",
              "      <td>39.865420</td>\n",
              "      <td>-84.062800</td>\n",
              "      <td>39.865010</td>\n",
              "      <td>-84.048730</td>\n",
              "      <td>0.747</td>\n",
              "      <td>At OH-4/OH-235/Exit 41 - Accident.</td>\n",
              "      <td>...</td>\n",
              "      <td>False</td>\n",
              "      <td>False</td>\n",
              "      <td>False</td>\n",
              "      <td>False</td>\n",
              "      <td>False</td>\n",
              "      <td>False</td>\n",
              "      <td>Night</td>\n",
              "      <td>Night</td>\n",
              "      <td>Night</td>\n",
              "      <td>Night</td>\n",
              "    </tr>\n",
              "    <tr>\n",
              "      <th>2</th>\n",
              "      <td>A-3</td>\n",
              "      <td>2</td>\n",
              "      <td>2016-02-08 06:15:39</td>\n",
              "      <td>2016-02-08 12:15:39</td>\n",
              "      <td>39.102660</td>\n",
              "      <td>-84.524680</td>\n",
              "      <td>39.102090</td>\n",
              "      <td>-84.523960</td>\n",
              "      <td>0.055</td>\n",
              "      <td>At I-71/US-50/Exit 1 - Accident.</td>\n",
              "      <td>...</td>\n",
              "      <td>False</td>\n",
              "      <td>False</td>\n",
              "      <td>False</td>\n",
              "      <td>False</td>\n",
              "      <td>False</td>\n",
              "      <td>False</td>\n",
              "      <td>Night</td>\n",
              "      <td>Night</td>\n",
              "      <td>Night</td>\n",
              "      <td>Day</td>\n",
              "    </tr>\n",
              "    <tr>\n",
              "      <th>3</th>\n",
              "      <td>A-4</td>\n",
              "      <td>2</td>\n",
              "      <td>2016-02-08 06:51:45</td>\n",
              "      <td>2016-02-08 12:51:45</td>\n",
              "      <td>41.062130</td>\n",
              "      <td>-81.537840</td>\n",
              "      <td>41.062170</td>\n",
              "      <td>-81.535470</td>\n",
              "      <td>0.123</td>\n",
              "      <td>At Dart Ave/Exit 21 - Accident.</td>\n",
              "      <td>...</td>\n",
              "      <td>False</td>\n",
              "      <td>False</td>\n",
              "      <td>False</td>\n",
              "      <td>False</td>\n",
              "      <td>False</td>\n",
              "      <td>False</td>\n",
              "      <td>Night</td>\n",
              "      <td>Night</td>\n",
              "      <td>Day</td>\n",
              "      <td>Day</td>\n",
              "    </tr>\n",
              "    <tr>\n",
              "      <th>4</th>\n",
              "      <td>A-5</td>\n",
              "      <td>3</td>\n",
              "      <td>2016-02-08 07:53:43</td>\n",
              "      <td>2016-02-08 13:53:43</td>\n",
              "      <td>39.172393</td>\n",
              "      <td>-84.492792</td>\n",
              "      <td>39.170476</td>\n",
              "      <td>-84.501798</td>\n",
              "      <td>0.500</td>\n",
              "      <td>At Mitchell Ave/Exit 6 - Accident.</td>\n",
              "      <td>...</td>\n",
              "      <td>False</td>\n",
              "      <td>False</td>\n",
              "      <td>False</td>\n",
              "      <td>False</td>\n",
              "      <td>False</td>\n",
              "      <td>False</td>\n",
              "      <td>Day</td>\n",
              "      <td>Day</td>\n",
              "      <td>Day</td>\n",
              "      <td>Day</td>\n",
              "    </tr>\n",
              "  </tbody>\n",
              "</table>\n",
              "<p>5 rows × 47 columns</p>\n",
              "</div>\n",
              "      <button class=\"colab-df-convert\" onclick=\"convertToInteractive('df-2264d363-206c-4298-8ce7-fd68a153336d')\"\n",
              "              title=\"Convert this dataframe to an interactive table.\"\n",
              "              style=\"display:none;\">\n",
              "        \n",
              "  <svg xmlns=\"http://www.w3.org/2000/svg\" height=\"24px\"viewBox=\"0 0 24 24\"\n",
              "       width=\"24px\">\n",
              "    <path d=\"M0 0h24v24H0V0z\" fill=\"none\"/>\n",
              "    <path d=\"M18.56 5.44l.94 2.06.94-2.06 2.06-.94-2.06-.94-.94-2.06-.94 2.06-2.06.94zm-11 1L8.5 8.5l.94-2.06 2.06-.94-2.06-.94L8.5 2.5l-.94 2.06-2.06.94zm10 10l.94 2.06.94-2.06 2.06-.94-2.06-.94-.94-2.06-.94 2.06-2.06.94z\"/><path d=\"M17.41 7.96l-1.37-1.37c-.4-.4-.92-.59-1.43-.59-.52 0-1.04.2-1.43.59L10.3 9.45l-7.72 7.72c-.78.78-.78 2.05 0 2.83L4 21.41c.39.39.9.59 1.41.59.51 0 1.02-.2 1.41-.59l7.78-7.78 2.81-2.81c.8-.78.8-2.07 0-2.86zM5.41 20L4 18.59l7.72-7.72 1.47 1.35L5.41 20z\"/>\n",
              "  </svg>\n",
              "      </button>\n",
              "      \n",
              "  <style>\n",
              "    .colab-df-container {\n",
              "      display:flex;\n",
              "      flex-wrap:wrap;\n",
              "      gap: 12px;\n",
              "    }\n",
              "\n",
              "    .colab-df-convert {\n",
              "      background-color: #E8F0FE;\n",
              "      border: none;\n",
              "      border-radius: 50%;\n",
              "      cursor: pointer;\n",
              "      display: none;\n",
              "      fill: #1967D2;\n",
              "      height: 32px;\n",
              "      padding: 0 0 0 0;\n",
              "      width: 32px;\n",
              "    }\n",
              "\n",
              "    .colab-df-convert:hover {\n",
              "      background-color: #E2EBFA;\n",
              "      box-shadow: 0px 1px 2px rgba(60, 64, 67, 0.3), 0px 1px 3px 1px rgba(60, 64, 67, 0.15);\n",
              "      fill: #174EA6;\n",
              "    }\n",
              "\n",
              "    [theme=dark] .colab-df-convert {\n",
              "      background-color: #3B4455;\n",
              "      fill: #D2E3FC;\n",
              "    }\n",
              "\n",
              "    [theme=dark] .colab-df-convert:hover {\n",
              "      background-color: #434B5C;\n",
              "      box-shadow: 0px 1px 3px 1px rgba(0, 0, 0, 0.15);\n",
              "      filter: drop-shadow(0px 1px 2px rgba(0, 0, 0, 0.3));\n",
              "      fill: #FFFFFF;\n",
              "    }\n",
              "  </style>\n",
              "\n",
              "      <script>\n",
              "        const buttonEl =\n",
              "          document.querySelector('#df-2264d363-206c-4298-8ce7-fd68a153336d button.colab-df-convert');\n",
              "        buttonEl.style.display =\n",
              "          google.colab.kernel.accessAllowed ? 'block' : 'none';\n",
              "\n",
              "        async function convertToInteractive(key) {\n",
              "          const element = document.querySelector('#df-2264d363-206c-4298-8ce7-fd68a153336d');\n",
              "          const dataTable =\n",
              "            await google.colab.kernel.invokeFunction('convertToInteractive',\n",
              "                                                     [key], {});\n",
              "          if (!dataTable) return;\n",
              "\n",
              "          const docLinkHtml = 'Like what you see? Visit the ' +\n",
              "            '<a target=\"_blank\" href=https://colab.research.google.com/notebooks/data_table.ipynb>data table notebook</a>'\n",
              "            + ' to learn more about interactive tables.';\n",
              "          element.innerHTML = '';\n",
              "          dataTable['output_type'] = 'display_data';\n",
              "          await google.colab.output.renderOutput(dataTable, element);\n",
              "          const docLink = document.createElement('div');\n",
              "          docLink.innerHTML = docLinkHtml;\n",
              "          element.appendChild(docLink);\n",
              "        }\n",
              "      </script>\n",
              "    </div>\n",
              "  </div>\n",
              "  "
            ]
          },
          "metadata": {},
          "execution_count": 8
        }
      ],
      "source": [
        "df.head(5)"
      ]
    },
    {
      "cell_type": "code",
      "source": [
        "df.columns"
      ],
      "metadata": {
        "colab": {
          "base_uri": "https://localhost:8080/"
        },
        "id": "2OfDJC9kLGen",
        "outputId": "fcde3abe-4d21-471f-d2cc-0b7932e6e5ab"
      },
      "id": "2OfDJC9kLGen",
      "execution_count": 9,
      "outputs": [
        {
          "output_type": "execute_result",
          "data": {
            "text/plain": [
              "Index(['ID', 'Severity', 'Start_Time', 'End_Time', 'Start_Lat', 'Start_Lng',\n",
              "       'End_Lat', 'End_Lng', 'Distance(mi)', 'Description', 'Number', 'Street',\n",
              "       'Side', 'City', 'County', 'State', 'Zipcode', 'Country', 'Timezone',\n",
              "       'Airport_Code', 'Weather_Timestamp', 'Temperature(F)', 'Wind_Chill(F)',\n",
              "       'Humidity(%)', 'Pressure(in)', 'Visibility(mi)', 'Wind_Direction',\n",
              "       'Wind_Speed(mph)', 'Precipitation(in)', 'Weather_Condition', 'Amenity',\n",
              "       'Bump', 'Crossing', 'Give_Way', 'Junction', 'No_Exit', 'Railway',\n",
              "       'Roundabout', 'Station', 'Stop', 'Traffic_Calming', 'Traffic_Signal',\n",
              "       'Turning_Loop', 'Sunrise_Sunset', 'Civil_Twilight', 'Nautical_Twilight',\n",
              "       'Astronomical_Twilight'],\n",
              "      dtype='object')"
            ]
          },
          "metadata": {},
          "execution_count": 9
        }
      ]
    },
    {
      "cell_type": "code",
      "source": [
        "df.shape"
      ],
      "metadata": {
        "colab": {
          "base_uri": "https://localhost:8080/"
        },
        "id": "6bnvUwaJLN-c",
        "outputId": "19a30937-5e46-47e1-b96a-d3fe288a1432"
      },
      "id": "6bnvUwaJLN-c",
      "execution_count": 10,
      "outputs": [
        {
          "output_type": "execute_result",
          "data": {
            "text/plain": [
              "(2845342, 47)"
            ]
          },
          "metadata": {},
          "execution_count": 10
        }
      ]
    },
    {
      "cell_type": "code",
      "source": [
        "df.info()"
      ],
      "metadata": {
        "colab": {
          "base_uri": "https://localhost:8080/"
        },
        "id": "V6xN6LRHLO_p",
        "outputId": "aedaaa3e-d5fb-4e64-e44a-3ada496615e0"
      },
      "id": "V6xN6LRHLO_p",
      "execution_count": 11,
      "outputs": [
        {
          "output_type": "stream",
          "name": "stdout",
          "text": [
            "<class 'pandas.core.frame.DataFrame'>\n",
            "RangeIndex: 2845342 entries, 0 to 2845341\n",
            "Data columns (total 47 columns):\n",
            " #   Column                 Dtype  \n",
            "---  ------                 -----  \n",
            " 0   ID                     object \n",
            " 1   Severity               int64  \n",
            " 2   Start_Time             object \n",
            " 3   End_Time               object \n",
            " 4   Start_Lat              float64\n",
            " 5   Start_Lng              float64\n",
            " 6   End_Lat                float64\n",
            " 7   End_Lng                float64\n",
            " 8   Distance(mi)           float64\n",
            " 9   Description            object \n",
            " 10  Number                 float64\n",
            " 11  Street                 object \n",
            " 12  Side                   object \n",
            " 13  City                   object \n",
            " 14  County                 object \n",
            " 15  State                  object \n",
            " 16  Zipcode                object \n",
            " 17  Country                object \n",
            " 18  Timezone               object \n",
            " 19  Airport_Code           object \n",
            " 20  Weather_Timestamp      object \n",
            " 21  Temperature(F)         float64\n",
            " 22  Wind_Chill(F)          float64\n",
            " 23  Humidity(%)            float64\n",
            " 24  Pressure(in)           float64\n",
            " 25  Visibility(mi)         float64\n",
            " 26  Wind_Direction         object \n",
            " 27  Wind_Speed(mph)        float64\n",
            " 28  Precipitation(in)      float64\n",
            " 29  Weather_Condition      object \n",
            " 30  Amenity                bool   \n",
            " 31  Bump                   bool   \n",
            " 32  Crossing               bool   \n",
            " 33  Give_Way               bool   \n",
            " 34  Junction               bool   \n",
            " 35  No_Exit                bool   \n",
            " 36  Railway                bool   \n",
            " 37  Roundabout             bool   \n",
            " 38  Station                bool   \n",
            " 39  Stop                   bool   \n",
            " 40  Traffic_Calming        bool   \n",
            " 41  Traffic_Signal         bool   \n",
            " 42  Turning_Loop           bool   \n",
            " 43  Sunrise_Sunset         object \n",
            " 44  Civil_Twilight         object \n",
            " 45  Nautical_Twilight      object \n",
            " 46  Astronomical_Twilight  object \n",
            "dtypes: bool(13), float64(13), int64(1), object(20)\n",
            "memory usage: 773.4+ MB\n"
          ]
        }
      ]
    },
    {
      "cell_type": "code",
      "source": [
        "df.describe(include = 'all')"
      ],
      "metadata": {
        "colab": {
          "base_uri": "https://localhost:8080/",
          "height": 557
        },
        "id": "ivVvjh-2LTQV",
        "outputId": "69e13ec5-8b48-41d6-d0a6-851afbf73fa8"
      },
      "id": "ivVvjh-2LTQV",
      "execution_count": 12,
      "outputs": [
        {
          "output_type": "execute_result",
          "data": {
            "text/plain": [
              "             ID      Severity           Start_Time             End_Time  \\\n",
              "count   2845342  2.845342e+06              2845342              2845342   \n",
              "unique  2845342           NaN              1959333              2351505   \n",
              "top         A-1           NaN  2021-01-26 16:16:13  2021-11-22 08:00:00   \n",
              "freq          1           NaN                  214                   88   \n",
              "mean        NaN  2.137572e+00                  NaN                  NaN   \n",
              "std         NaN  4.787216e-01                  NaN                  NaN   \n",
              "min         NaN  1.000000e+00                  NaN                  NaN   \n",
              "25%         NaN  2.000000e+00                  NaN                  NaN   \n",
              "50%         NaN  2.000000e+00                  NaN                  NaN   \n",
              "75%         NaN  2.000000e+00                  NaN                  NaN   \n",
              "max         NaN  4.000000e+00                  NaN                  NaN   \n",
              "\n",
              "           Start_Lat     Start_Lng       End_Lat       End_Lng  Distance(mi)  \\\n",
              "count   2.845342e+06  2.845342e+06  2.845342e+06  2.845342e+06  2.845342e+06   \n",
              "unique           NaN           NaN           NaN           NaN           NaN   \n",
              "top              NaN           NaN           NaN           NaN           NaN   \n",
              "freq             NaN           NaN           NaN           NaN           NaN   \n",
              "mean    3.624520e+01 -9.711463e+01  3.624532e+01 -9.711439e+01  7.026779e-01   \n",
              "std     5.363797e+00  1.831782e+01  5.363873e+00  1.831763e+01  1.560361e+00   \n",
              "min     2.456603e+01 -1.245481e+02  2.456601e+01 -1.245457e+02  0.000000e+00   \n",
              "25%     3.344517e+01 -1.180331e+02  3.344628e+01 -1.180333e+02  5.200000e-02   \n",
              "50%     3.609861e+01 -9.241808e+01  3.609799e+01 -9.241772e+01  2.440000e-01   \n",
              "75%     4.016024e+01 -8.037243e+01  4.016105e+01 -8.037338e+01  7.640000e-01   \n",
              "max     4.900058e+01 -6.711317e+01  4.907500e+01 -6.710924e+01  1.551860e+02   \n",
              "\n",
              "                                              Description  ...  Roundabout  \\\n",
              "count                                             2845342  ...     2845342   \n",
              "unique                                            1174563  ...           2   \n",
              "top     A crash has occurred causing no to minimum del...  ...       False   \n",
              "freq                                                 7978  ...     2845219   \n",
              "mean                                                  NaN  ...         NaN   \n",
              "std                                                   NaN  ...         NaN   \n",
              "min                                                   NaN  ...         NaN   \n",
              "25%                                                   NaN  ...         NaN   \n",
              "50%                                                   NaN  ...         NaN   \n",
              "75%                                                   NaN  ...         NaN   \n",
              "max                                                   NaN  ...         NaN   \n",
              "\n",
              "        Station     Stop Traffic_Calming Traffic_Signal Turning_Loop  \\\n",
              "count   2845342  2845342         2845342        2845342      2845342   \n",
              "unique        2        2               2              2            1   \n",
              "top       False    False           False          False        False   \n",
              "freq    2777347  2794942         2843630        2580079      2845342   \n",
              "mean        NaN      NaN             NaN            NaN          NaN   \n",
              "std         NaN      NaN             NaN            NaN          NaN   \n",
              "min         NaN      NaN             NaN            NaN          NaN   \n",
              "25%         NaN      NaN             NaN            NaN          NaN   \n",
              "50%         NaN      NaN             NaN            NaN          NaN   \n",
              "75%         NaN      NaN             NaN            NaN          NaN   \n",
              "max         NaN      NaN             NaN            NaN          NaN   \n",
              "\n",
              "       Sunrise_Sunset Civil_Twilight Nautical_Twilight Astronomical_Twilight  \n",
              "count         2842475        2842475           2842475               2842475  \n",
              "unique              2              2                 2                     2  \n",
              "top               Day            Day               Day                   Day  \n",
              "freq          1811935        1929103           2063472               2176983  \n",
              "mean              NaN            NaN               NaN                   NaN  \n",
              "std               NaN            NaN               NaN                   NaN  \n",
              "min               NaN            NaN               NaN                   NaN  \n",
              "25%               NaN            NaN               NaN                   NaN  \n",
              "50%               NaN            NaN               NaN                   NaN  \n",
              "75%               NaN            NaN               NaN                   NaN  \n",
              "max               NaN            NaN               NaN                   NaN  \n",
              "\n",
              "[11 rows x 47 columns]"
            ],
            "text/html": [
              "\n",
              "  <div id=\"df-be3ad5b0-2609-44d3-bf77-bd0b3d682175\">\n",
              "    <div class=\"colab-df-container\">\n",
              "      <div>\n",
              "<style scoped>\n",
              "    .dataframe tbody tr th:only-of-type {\n",
              "        vertical-align: middle;\n",
              "    }\n",
              "\n",
              "    .dataframe tbody tr th {\n",
              "        vertical-align: top;\n",
              "    }\n",
              "\n",
              "    .dataframe thead th {\n",
              "        text-align: right;\n",
              "    }\n",
              "</style>\n",
              "<table border=\"1\" class=\"dataframe\">\n",
              "  <thead>\n",
              "    <tr style=\"text-align: right;\">\n",
              "      <th></th>\n",
              "      <th>ID</th>\n",
              "      <th>Severity</th>\n",
              "      <th>Start_Time</th>\n",
              "      <th>End_Time</th>\n",
              "      <th>Start_Lat</th>\n",
              "      <th>Start_Lng</th>\n",
              "      <th>End_Lat</th>\n",
              "      <th>End_Lng</th>\n",
              "      <th>Distance(mi)</th>\n",
              "      <th>Description</th>\n",
              "      <th>...</th>\n",
              "      <th>Roundabout</th>\n",
              "      <th>Station</th>\n",
              "      <th>Stop</th>\n",
              "      <th>Traffic_Calming</th>\n",
              "      <th>Traffic_Signal</th>\n",
              "      <th>Turning_Loop</th>\n",
              "      <th>Sunrise_Sunset</th>\n",
              "      <th>Civil_Twilight</th>\n",
              "      <th>Nautical_Twilight</th>\n",
              "      <th>Astronomical_Twilight</th>\n",
              "    </tr>\n",
              "  </thead>\n",
              "  <tbody>\n",
              "    <tr>\n",
              "      <th>count</th>\n",
              "      <td>2845342</td>\n",
              "      <td>2.845342e+06</td>\n",
              "      <td>2845342</td>\n",
              "      <td>2845342</td>\n",
              "      <td>2.845342e+06</td>\n",
              "      <td>2.845342e+06</td>\n",
              "      <td>2.845342e+06</td>\n",
              "      <td>2.845342e+06</td>\n",
              "      <td>2.845342e+06</td>\n",
              "      <td>2845342</td>\n",
              "      <td>...</td>\n",
              "      <td>2845342</td>\n",
              "      <td>2845342</td>\n",
              "      <td>2845342</td>\n",
              "      <td>2845342</td>\n",
              "      <td>2845342</td>\n",
              "      <td>2845342</td>\n",
              "      <td>2842475</td>\n",
              "      <td>2842475</td>\n",
              "      <td>2842475</td>\n",
              "      <td>2842475</td>\n",
              "    </tr>\n",
              "    <tr>\n",
              "      <th>unique</th>\n",
              "      <td>2845342</td>\n",
              "      <td>NaN</td>\n",
              "      <td>1959333</td>\n",
              "      <td>2351505</td>\n",
              "      <td>NaN</td>\n",
              "      <td>NaN</td>\n",
              "      <td>NaN</td>\n",
              "      <td>NaN</td>\n",
              "      <td>NaN</td>\n",
              "      <td>1174563</td>\n",
              "      <td>...</td>\n",
              "      <td>2</td>\n",
              "      <td>2</td>\n",
              "      <td>2</td>\n",
              "      <td>2</td>\n",
              "      <td>2</td>\n",
              "      <td>1</td>\n",
              "      <td>2</td>\n",
              "      <td>2</td>\n",
              "      <td>2</td>\n",
              "      <td>2</td>\n",
              "    </tr>\n",
              "    <tr>\n",
              "      <th>top</th>\n",
              "      <td>A-1</td>\n",
              "      <td>NaN</td>\n",
              "      <td>2021-01-26 16:16:13</td>\n",
              "      <td>2021-11-22 08:00:00</td>\n",
              "      <td>NaN</td>\n",
              "      <td>NaN</td>\n",
              "      <td>NaN</td>\n",
              "      <td>NaN</td>\n",
              "      <td>NaN</td>\n",
              "      <td>A crash has occurred causing no to minimum del...</td>\n",
              "      <td>...</td>\n",
              "      <td>False</td>\n",
              "      <td>False</td>\n",
              "      <td>False</td>\n",
              "      <td>False</td>\n",
              "      <td>False</td>\n",
              "      <td>False</td>\n",
              "      <td>Day</td>\n",
              "      <td>Day</td>\n",
              "      <td>Day</td>\n",
              "      <td>Day</td>\n",
              "    </tr>\n",
              "    <tr>\n",
              "      <th>freq</th>\n",
              "      <td>1</td>\n",
              "      <td>NaN</td>\n",
              "      <td>214</td>\n",
              "      <td>88</td>\n",
              "      <td>NaN</td>\n",
              "      <td>NaN</td>\n",
              "      <td>NaN</td>\n",
              "      <td>NaN</td>\n",
              "      <td>NaN</td>\n",
              "      <td>7978</td>\n",
              "      <td>...</td>\n",
              "      <td>2845219</td>\n",
              "      <td>2777347</td>\n",
              "      <td>2794942</td>\n",
              "      <td>2843630</td>\n",
              "      <td>2580079</td>\n",
              "      <td>2845342</td>\n",
              "      <td>1811935</td>\n",
              "      <td>1929103</td>\n",
              "      <td>2063472</td>\n",
              "      <td>2176983</td>\n",
              "    </tr>\n",
              "    <tr>\n",
              "      <th>mean</th>\n",
              "      <td>NaN</td>\n",
              "      <td>2.137572e+00</td>\n",
              "      <td>NaN</td>\n",
              "      <td>NaN</td>\n",
              "      <td>3.624520e+01</td>\n",
              "      <td>-9.711463e+01</td>\n",
              "      <td>3.624532e+01</td>\n",
              "      <td>-9.711439e+01</td>\n",
              "      <td>7.026779e-01</td>\n",
              "      <td>NaN</td>\n",
              "      <td>...</td>\n",
              "      <td>NaN</td>\n",
              "      <td>NaN</td>\n",
              "      <td>NaN</td>\n",
              "      <td>NaN</td>\n",
              "      <td>NaN</td>\n",
              "      <td>NaN</td>\n",
              "      <td>NaN</td>\n",
              "      <td>NaN</td>\n",
              "      <td>NaN</td>\n",
              "      <td>NaN</td>\n",
              "    </tr>\n",
              "    <tr>\n",
              "      <th>std</th>\n",
              "      <td>NaN</td>\n",
              "      <td>4.787216e-01</td>\n",
              "      <td>NaN</td>\n",
              "      <td>NaN</td>\n",
              "      <td>5.363797e+00</td>\n",
              "      <td>1.831782e+01</td>\n",
              "      <td>5.363873e+00</td>\n",
              "      <td>1.831763e+01</td>\n",
              "      <td>1.560361e+00</td>\n",
              "      <td>NaN</td>\n",
              "      <td>...</td>\n",
              "      <td>NaN</td>\n",
              "      <td>NaN</td>\n",
              "      <td>NaN</td>\n",
              "      <td>NaN</td>\n",
              "      <td>NaN</td>\n",
              "      <td>NaN</td>\n",
              "      <td>NaN</td>\n",
              "      <td>NaN</td>\n",
              "      <td>NaN</td>\n",
              "      <td>NaN</td>\n",
              "    </tr>\n",
              "    <tr>\n",
              "      <th>min</th>\n",
              "      <td>NaN</td>\n",
              "      <td>1.000000e+00</td>\n",
              "      <td>NaN</td>\n",
              "      <td>NaN</td>\n",
              "      <td>2.456603e+01</td>\n",
              "      <td>-1.245481e+02</td>\n",
              "      <td>2.456601e+01</td>\n",
              "      <td>-1.245457e+02</td>\n",
              "      <td>0.000000e+00</td>\n",
              "      <td>NaN</td>\n",
              "      <td>...</td>\n",
              "      <td>NaN</td>\n",
              "      <td>NaN</td>\n",
              "      <td>NaN</td>\n",
              "      <td>NaN</td>\n",
              "      <td>NaN</td>\n",
              "      <td>NaN</td>\n",
              "      <td>NaN</td>\n",
              "      <td>NaN</td>\n",
              "      <td>NaN</td>\n",
              "      <td>NaN</td>\n",
              "    </tr>\n",
              "    <tr>\n",
              "      <th>25%</th>\n",
              "      <td>NaN</td>\n",
              "      <td>2.000000e+00</td>\n",
              "      <td>NaN</td>\n",
              "      <td>NaN</td>\n",
              "      <td>3.344517e+01</td>\n",
              "      <td>-1.180331e+02</td>\n",
              "      <td>3.344628e+01</td>\n",
              "      <td>-1.180333e+02</td>\n",
              "      <td>5.200000e-02</td>\n",
              "      <td>NaN</td>\n",
              "      <td>...</td>\n",
              "      <td>NaN</td>\n",
              "      <td>NaN</td>\n",
              "      <td>NaN</td>\n",
              "      <td>NaN</td>\n",
              "      <td>NaN</td>\n",
              "      <td>NaN</td>\n",
              "      <td>NaN</td>\n",
              "      <td>NaN</td>\n",
              "      <td>NaN</td>\n",
              "      <td>NaN</td>\n",
              "    </tr>\n",
              "    <tr>\n",
              "      <th>50%</th>\n",
              "      <td>NaN</td>\n",
              "      <td>2.000000e+00</td>\n",
              "      <td>NaN</td>\n",
              "      <td>NaN</td>\n",
              "      <td>3.609861e+01</td>\n",
              "      <td>-9.241808e+01</td>\n",
              "      <td>3.609799e+01</td>\n",
              "      <td>-9.241772e+01</td>\n",
              "      <td>2.440000e-01</td>\n",
              "      <td>NaN</td>\n",
              "      <td>...</td>\n",
              "      <td>NaN</td>\n",
              "      <td>NaN</td>\n",
              "      <td>NaN</td>\n",
              "      <td>NaN</td>\n",
              "      <td>NaN</td>\n",
              "      <td>NaN</td>\n",
              "      <td>NaN</td>\n",
              "      <td>NaN</td>\n",
              "      <td>NaN</td>\n",
              "      <td>NaN</td>\n",
              "    </tr>\n",
              "    <tr>\n",
              "      <th>75%</th>\n",
              "      <td>NaN</td>\n",
              "      <td>2.000000e+00</td>\n",
              "      <td>NaN</td>\n",
              "      <td>NaN</td>\n",
              "      <td>4.016024e+01</td>\n",
              "      <td>-8.037243e+01</td>\n",
              "      <td>4.016105e+01</td>\n",
              "      <td>-8.037338e+01</td>\n",
              "      <td>7.640000e-01</td>\n",
              "      <td>NaN</td>\n",
              "      <td>...</td>\n",
              "      <td>NaN</td>\n",
              "      <td>NaN</td>\n",
              "      <td>NaN</td>\n",
              "      <td>NaN</td>\n",
              "      <td>NaN</td>\n",
              "      <td>NaN</td>\n",
              "      <td>NaN</td>\n",
              "      <td>NaN</td>\n",
              "      <td>NaN</td>\n",
              "      <td>NaN</td>\n",
              "    </tr>\n",
              "    <tr>\n",
              "      <th>max</th>\n",
              "      <td>NaN</td>\n",
              "      <td>4.000000e+00</td>\n",
              "      <td>NaN</td>\n",
              "      <td>NaN</td>\n",
              "      <td>4.900058e+01</td>\n",
              "      <td>-6.711317e+01</td>\n",
              "      <td>4.907500e+01</td>\n",
              "      <td>-6.710924e+01</td>\n",
              "      <td>1.551860e+02</td>\n",
              "      <td>NaN</td>\n",
              "      <td>...</td>\n",
              "      <td>NaN</td>\n",
              "      <td>NaN</td>\n",
              "      <td>NaN</td>\n",
              "      <td>NaN</td>\n",
              "      <td>NaN</td>\n",
              "      <td>NaN</td>\n",
              "      <td>NaN</td>\n",
              "      <td>NaN</td>\n",
              "      <td>NaN</td>\n",
              "      <td>NaN</td>\n",
              "    </tr>\n",
              "  </tbody>\n",
              "</table>\n",
              "<p>11 rows × 47 columns</p>\n",
              "</div>\n",
              "      <button class=\"colab-df-convert\" onclick=\"convertToInteractive('df-be3ad5b0-2609-44d3-bf77-bd0b3d682175')\"\n",
              "              title=\"Convert this dataframe to an interactive table.\"\n",
              "              style=\"display:none;\">\n",
              "        \n",
              "  <svg xmlns=\"http://www.w3.org/2000/svg\" height=\"24px\"viewBox=\"0 0 24 24\"\n",
              "       width=\"24px\">\n",
              "    <path d=\"M0 0h24v24H0V0z\" fill=\"none\"/>\n",
              "    <path d=\"M18.56 5.44l.94 2.06.94-2.06 2.06-.94-2.06-.94-.94-2.06-.94 2.06-2.06.94zm-11 1L8.5 8.5l.94-2.06 2.06-.94-2.06-.94L8.5 2.5l-.94 2.06-2.06.94zm10 10l.94 2.06.94-2.06 2.06-.94-2.06-.94-.94-2.06-.94 2.06-2.06.94z\"/><path d=\"M17.41 7.96l-1.37-1.37c-.4-.4-.92-.59-1.43-.59-.52 0-1.04.2-1.43.59L10.3 9.45l-7.72 7.72c-.78.78-.78 2.05 0 2.83L4 21.41c.39.39.9.59 1.41.59.51 0 1.02-.2 1.41-.59l7.78-7.78 2.81-2.81c.8-.78.8-2.07 0-2.86zM5.41 20L4 18.59l7.72-7.72 1.47 1.35L5.41 20z\"/>\n",
              "  </svg>\n",
              "      </button>\n",
              "      \n",
              "  <style>\n",
              "    .colab-df-container {\n",
              "      display:flex;\n",
              "      flex-wrap:wrap;\n",
              "      gap: 12px;\n",
              "    }\n",
              "\n",
              "    .colab-df-convert {\n",
              "      background-color: #E8F0FE;\n",
              "      border: none;\n",
              "      border-radius: 50%;\n",
              "      cursor: pointer;\n",
              "      display: none;\n",
              "      fill: #1967D2;\n",
              "      height: 32px;\n",
              "      padding: 0 0 0 0;\n",
              "      width: 32px;\n",
              "    }\n",
              "\n",
              "    .colab-df-convert:hover {\n",
              "      background-color: #E2EBFA;\n",
              "      box-shadow: 0px 1px 2px rgba(60, 64, 67, 0.3), 0px 1px 3px 1px rgba(60, 64, 67, 0.15);\n",
              "      fill: #174EA6;\n",
              "    }\n",
              "\n",
              "    [theme=dark] .colab-df-convert {\n",
              "      background-color: #3B4455;\n",
              "      fill: #D2E3FC;\n",
              "    }\n",
              "\n",
              "    [theme=dark] .colab-df-convert:hover {\n",
              "      background-color: #434B5C;\n",
              "      box-shadow: 0px 1px 3px 1px rgba(0, 0, 0, 0.15);\n",
              "      filter: drop-shadow(0px 1px 2px rgba(0, 0, 0, 0.3));\n",
              "      fill: #FFFFFF;\n",
              "    }\n",
              "  </style>\n",
              "\n",
              "      <script>\n",
              "        const buttonEl =\n",
              "          document.querySelector('#df-be3ad5b0-2609-44d3-bf77-bd0b3d682175 button.colab-df-convert');\n",
              "        buttonEl.style.display =\n",
              "          google.colab.kernel.accessAllowed ? 'block' : 'none';\n",
              "\n",
              "        async function convertToInteractive(key) {\n",
              "          const element = document.querySelector('#df-be3ad5b0-2609-44d3-bf77-bd0b3d682175');\n",
              "          const dataTable =\n",
              "            await google.colab.kernel.invokeFunction('convertToInteractive',\n",
              "                                                     [key], {});\n",
              "          if (!dataTable) return;\n",
              "\n",
              "          const docLinkHtml = 'Like what you see? Visit the ' +\n",
              "            '<a target=\"_blank\" href=https://colab.research.google.com/notebooks/data_table.ipynb>data table notebook</a>'\n",
              "            + ' to learn more about interactive tables.';\n",
              "          element.innerHTML = '';\n",
              "          dataTable['output_type'] = 'display_data';\n",
              "          await google.colab.output.renderOutput(dataTable, element);\n",
              "          const docLink = document.createElement('div');\n",
              "          docLink.innerHTML = docLinkHtml;\n",
              "          element.appendChild(docLink);\n",
              "        }\n",
              "      </script>\n",
              "    </div>\n",
              "  </div>\n",
              "  "
            ]
          },
          "metadata": {},
          "execution_count": 12
        }
      ]
    },
    {
      "cell_type": "code",
      "source": [
        "numeric_cols = df.select_dtypes(include = ['int16', 'int32', 'int64', 'float16', 'float32', 'float64'])"
      ],
      "metadata": {
        "id": "Wv8k_d79MJx7"
      },
      "id": "Wv8k_d79MJx7",
      "execution_count": 13,
      "outputs": []
    },
    {
      "cell_type": "code",
      "source": [
        "len(numeric_cols.columns)"
      ],
      "metadata": {
        "colab": {
          "base_uri": "https://localhost:8080/"
        },
        "id": "7dWluGnePlNy",
        "outputId": "1e31afe2-ed68-4cd2-ce78-7e84f707649b"
      },
      "id": "7dWluGnePlNy",
      "execution_count": 14,
      "outputs": [
        {
          "output_type": "execute_result",
          "data": {
            "text/plain": [
              "14"
            ]
          },
          "metadata": {},
          "execution_count": 14
        }
      ]
    },
    {
      "cell_type": "code",
      "source": [
        "len(df.columns)"
      ],
      "metadata": {
        "colab": {
          "base_uri": "https://localhost:8080/"
        },
        "id": "KGmC8CkuPmJE",
        "outputId": "d2437fbe-c5fa-45ed-87d4-7340cac4cf31"
      },
      "id": "KGmC8CkuPmJE",
      "execution_count": 15,
      "outputs": [
        {
          "output_type": "execute_result",
          "data": {
            "text/plain": [
              "47"
            ]
          },
          "metadata": {},
          "execution_count": 15
        }
      ]
    },
    {
      "cell_type": "markdown",
      "source": [
        "Percentage of missing values per column"
      ],
      "metadata": {
        "id": "LR1qPLaGQqcb"
      },
      "id": "LR1qPLaGQqcb"
    },
    {
      "cell_type": "code",
      "source": [
        "missing_percentages = (df.isna().sum().sort_values(ascending = True) / len(df)) * 100"
      ],
      "metadata": {
        "id": "NohIMHxmPvHJ"
      },
      "id": "NohIMHxmPvHJ",
      "execution_count": 16,
      "outputs": []
    },
    {
      "cell_type": "code",
      "source": [
        "missing_percentages"
      ],
      "metadata": {
        "colab": {
          "base_uri": "https://localhost:8080/"
        },
        "id": "OivxAL9sQo5U",
        "outputId": "7633cfb2-f373-4438-b699-ab26713eed47"
      },
      "id": "OivxAL9sQo5U",
      "execution_count": 17,
      "outputs": [
        {
          "output_type": "execute_result",
          "data": {
            "text/plain": [
              "ID                        0.000000\n",
              "Crossing                  0.000000\n",
              "Give_Way                  0.000000\n",
              "Junction                  0.000000\n",
              "No_Exit                   0.000000\n",
              "Railway                   0.000000\n",
              "Roundabout                0.000000\n",
              "Station                   0.000000\n",
              "Stop                      0.000000\n",
              "Traffic_Calming           0.000000\n",
              "Traffic_Signal            0.000000\n",
              "Turning_Loop              0.000000\n",
              "Country                   0.000000\n",
              "Amenity                   0.000000\n",
              "State                     0.000000\n",
              "End_Lng                   0.000000\n",
              "Severity                  0.000000\n",
              "Start_Time                0.000000\n",
              "End_Time                  0.000000\n",
              "Start_Lat                 0.000000\n",
              "Start_Lng                 0.000000\n",
              "End_Lat                   0.000000\n",
              "County                    0.000000\n",
              "Bump                      0.000000\n",
              "Description               0.000000\n",
              "Side                      0.000000\n",
              "Distance(mi)              0.000000\n",
              "Street                    0.000070\n",
              "City                      0.004815\n",
              "Zipcode                   0.046356\n",
              "Civil_Twilight            0.100761\n",
              "Sunrise_Sunset            0.100761\n",
              "Astronomical_Twilight     0.100761\n",
              "Nautical_Twilight         0.100761\n",
              "Timezone                  0.128596\n",
              "Airport_Code              0.335601\n",
              "Weather_Timestamp         1.783125\n",
              "Pressure(in)              2.080593\n",
              "Temperature(F)            2.434646\n",
              "Visibility(mi)            2.479350\n",
              "Weather_Condition         2.482514\n",
              "Humidity(%)               2.568830\n",
              "Wind_Direction            2.592834\n",
              "Wind_Speed(mph)           5.550967\n",
              "Wind_Chill(F)            16.505678\n",
              "Precipitation(in)        19.310789\n",
              "Number                   61.290031\n",
              "dtype: float64"
            ]
          },
          "metadata": {},
          "execution_count": 17
        }
      ]
    },
    {
      "cell_type": "code",
      "source": [
        "missing_percentages[missing_percentages > 0].plot(kind = 'barh');"
      ],
      "metadata": {
        "colab": {
          "base_uri": "https://localhost:8080/",
          "height": 265
        },
        "id": "xLPyxfatQgRP",
        "outputId": "d83376af-bf2a-4d80-fc6e-4f4a0dda79ac"
      },
      "id": "xLPyxfatQgRP",
      "execution_count": 18,
      "outputs": [
        {
          "output_type": "display_data",
          "data": {
            "text/plain": [
              "<Figure size 432x288 with 1 Axes>"
            ],
            "image/png": "[encoded data removed]"
          },
          "metadata": {
            "needs_background": "light"
          }
        }
      ]
    },
    {
      "cell_type": "markdown",
      "source": [
        "Removing columns that are not required and analysing a few of the columns:\n",
        "1. City\n",
        "2. Start Time\n",
        "3. Start Lat, Start Lng\n",
        "4. Temperature\n",
        "5. Weather Condition"
      ],
      "metadata": {
        "id": "Td8pxD6TR1vr"
      },
      "id": "Td8pxD6TR1vr"
    },
    {
      "cell_type": "code",
      "source": [
        "len(df['City'].unique())"
      ],
      "metadata": {
        "colab": {
          "base_uri": "https://localhost:8080/"
        },
        "id": "8mQoKPGERZ0S",
        "outputId": "8bda7538-4f37-4500-f7ad-8c6c018815a5"
      },
      "id": "8mQoKPGERZ0S",
      "execution_count": 19,
      "outputs": [
        {
          "output_type": "execute_result",
          "data": {
            "text/plain": [
              "11682"
            ]
          },
          "metadata": {},
          "execution_count": 19
        }
      ]
    },
    {
      "cell_type": "code",
      "source": [
        "df['City'].value_counts()[:25]"
      ],
      "metadata": {
        "colab": {
          "base_uri": "https://localhost:8080/"
        },
        "id": "8zSgls14DLWB",
        "outputId": "c032f1d1-aca3-4a5c-f799-5a5876413822"
      },
      "id": "8zSgls14DLWB",
      "execution_count": 20,
      "outputs": [
        {
          "output_type": "execute_result",
          "data": {
            "text/plain": [
              "Miami           106966\n",
              "Los Angeles      68956\n",
              "Orlando          54691\n",
              "Dallas           41979\n",
              "Houston          39448\n",
              "Charlotte        33152\n",
              "Sacramento       32559\n",
              "San Diego        26627\n",
              "Raleigh          22840\n",
              "Minneapolis      22768\n",
              "Portland         20944\n",
              "Nashville        20267\n",
              "Austin           18301\n",
              "Baton Rouge      18182\n",
              "Phoenix          17143\n",
              "Saint Paul       16869\n",
              "New Orleans      16251\n",
              "Atlanta          15622\n",
              "Jacksonville     14967\n",
              "Richmond         14349\n",
              "Tucson           13799\n",
              "San Jose         13377\n",
              "Riverside        13310\n",
              "Kansas City      13298\n",
              "Bakersfield      12044\n",
              "Name: City, dtype: int64"
            ]
          },
          "metadata": {},
          "execution_count": 20
        }
      ]
    },
    {
      "cell_type": "code",
      "source": [
        "[x in df.City for x in ['NY', 'NYC', 'New York', 'New York City']]"
      ],
      "metadata": {
        "colab": {
          "base_uri": "https://localhost:8080/"
        },
        "id": "cUKimbixDd0f",
        "outputId": "5d865e89-aed4-4dab-e12f-7b27dfac858d"
      },
      "id": "cUKimbixDd0f",
      "execution_count": 21,
      "outputs": [
        {
          "output_type": "execute_result",
          "data": {
            "text/plain": [
              "[False, False, False, False]"
            ]
          },
          "metadata": {},
          "execution_count": 21
        }
      ]
    },
    {
      "cell_type": "markdown",
      "source": [
        "Despite NY being the most populous city in US, it is not the top cities with most accidents because there is no data available."
      ],
      "metadata": {
        "id": "4-vJ_DCTEZa2"
      },
      "id": "4-vJ_DCTEZa2"
    },
    {
      "cell_type": "code",
      "source": [
        "df['City'].value_counts()[:20].plot(kind = 'barh');"
      ],
      "metadata": {
        "colab": {
          "base_uri": "https://localhost:8080/",
          "height": 265
        },
        "id": "HQuJ7lP0ECWP",
        "outputId": "a1cda8e6-0101-4712-8191-549210e9c9a2"
      },
      "id": "HQuJ7lP0ECWP",
      "execution_count": 22,
      "outputs": [
        {
          "output_type": "display_data",
          "data": {
            "text/plain": [
              "<Figure size 432x288 with 1 Axes>"
            ],
            "image/png": "[encoded data removed]"
          },
          "metadata": {
            "needs_background": "light"
          }
        }
      ]
    },
    {
      "cell_type": "code",
      "source": [
        "sns.set_style('darkgrid')"
      ],
      "metadata": {
        "id": "52j9NKLTEnOi"
      },
      "id": "52j9NKLTEnOi",
      "execution_count": 23,
      "outputs": []
    },
    {
      "cell_type": "code",
      "source": [
        "sns.distplot(df['City'].value_counts()[:50]);"
      ],
      "metadata": {
        "colab": {
          "base_uri": "https://localhost:8080/",
          "height": 334
        },
        "id": "ZmN8g-GZFELr",
        "outputId": "3cc81b44-286b-4a6f-f57d-1b05b972de0e"
      },
      "id": "ZmN8g-GZFELr",
      "execution_count": 24,
      "outputs": [
        {
          "output_type": "stream",
          "name": "stderr",
          "text": [
            "/usr/local/lib/python3.7/dist-packages/seaborn/distributions.py:2619: FutureWarning: `distplot` is a deprecated function and will be removed in a future version. Please adapt your code to use either `displot` (a figure-level function with similar flexibility) or `histplot` (an axes-level function for histograms).\n",
            "  warnings.warn(msg, FutureWarning)\n"
          ]
        },
        {
          "output_type": "display_data",
          "data": {
            "text/plain": [
              "<Figure size 432x288 with 1 Axes>"
            ],
            "image/png": "[encoded data removed]"
          },
          "metadata": {}
        }
      ]
    },
    {
      "cell_type": "code",
      "source": [
        "high_accident_cities = df['City'].value_counts()[df['City'].value_counts() >= 1000]\n",
        "low_accident_cities = df['City'].value_counts()[df['City'].value_counts() > 1000]"
      ],
      "metadata": {
        "id": "Hj4TwCwnFPEj"
      },
      "id": "Hj4TwCwnFPEj",
      "execution_count": 25,
      "outputs": []
    },
    {
      "cell_type": "code",
      "source": [
        "sns.distplot(high_accident_cities);"
      ],
      "metadata": {
        "colab": {
          "base_uri": "https://localhost:8080/",
          "height": 334
        },
        "id": "HJvuWhF2HjMg",
        "outputId": "f959e41a-591c-4584-8119-8bc210bcc014"
      },
      "id": "HJvuWhF2HjMg",
      "execution_count": 56,
      "outputs": [
        {
          "output_type": "stream",
          "name": "stderr",
          "text": [
            "/usr/local/lib/python3.7/dist-packages/seaborn/distributions.py:2619: FutureWarning: `distplot` is a deprecated function and will be removed in a future version. Please adapt your code to use either `displot` (a figure-level function with similar flexibility) or `histplot` (an axes-level function for histograms).\n",
            "  warnings.warn(msg, FutureWarning)\n"
          ]
        },
        {
          "output_type": "display_data",
          "data": {
            "text/plain": [
              "<Figure size 432x288 with 1 Axes>"
            ],
            "image/png": "[encoded data removed]"
          },
          "metadata": {}
        }
      ]
    },
    {
      "cell_type": "code",
      "source": [
        "sns.distplot(low_accident_cities);"
      ],
      "metadata": {
        "colab": {
          "base_uri": "https://localhost:8080/",
          "height": 334
        },
        "id": "9oGV8EijIQaW",
        "outputId": "28069a9c-9c37-484c-9ea4-48169b589405"
      },
      "id": "9oGV8EijIQaW",
      "execution_count": 55,
      "outputs": [
        {
          "output_type": "stream",
          "name": "stderr",
          "text": [
            "/usr/local/lib/python3.7/dist-packages/seaborn/distributions.py:2619: FutureWarning: `distplot` is a deprecated function and will be removed in a future version. Please adapt your code to use either `displot` (a figure-level function with similar flexibility) or `histplot` (an axes-level function for histograms).\n",
            "  warnings.warn(msg, FutureWarning)\n"
          ]
        },
        {
          "output_type": "display_data",
          "data": {
            "text/plain": [
              "<Figure size 432x288 with 1 Axes>"
            ],
            "image/png": "[encoded data removed]"
          },
          "metadata": {}
        }
      ]
    },
    {
      "cell_type": "code",
      "source": [
        "sns.histplot(df['City'].value_counts(), log_scale = True);"
      ],
      "metadata": {
        "colab": {
          "base_uri": "https://localhost:8080/",
          "height": 283
        },
        "id": "N2xRNcxlIS33",
        "outputId": "697ce5d1-d862-4ac7-a4b1-22e3065e966d"
      },
      "id": "N2xRNcxlIS33",
      "execution_count": 54,
      "outputs": [
        {
          "output_type": "display_data",
          "data": {
            "text/plain": [
              "<Figure size 432x288 with 1 Axes>"
            ],
            "image/png": "[encoded data removed]"
          },
          "metadata": {}
        }
      ]
    },
    {
      "cell_type": "code",
      "source": [
        "df['City'].value_counts()[df['City'].value_counts() == 1]"
      ],
      "metadata": {
        "colab": {
          "base_uri": "https://localhost:8080/"
        },
        "id": "1EpoiU9UFUQi",
        "outputId": "8134c504-d570-4ef4-cef8-cdfa84aa8fee"
      },
      "id": "1EpoiU9UFUQi",
      "execution_count": 30,
      "outputs": [
        {
          "output_type": "execute_result",
          "data": {
            "text/plain": [
              "Carney                          1\n",
              "Waverly Hall                    1\n",
              "Center Sandwich                 1\n",
              "Glen Flora                      1\n",
              "Sulphur Springs                 1\n",
              "                               ..\n",
              "Ridgedale                       1\n",
              "Sekiu                           1\n",
              "Wooldridge                      1\n",
              "Bullock                         1\n",
              "American Fork-Pleasant Grove    1\n",
              "Name: City, Length: 1110, dtype: int64"
            ]
          },
          "metadata": {},
          "execution_count": 30
        }
      ]
    },
    {
      "cell_type": "code",
      "source": [
        "df['Start_Time']"
      ],
      "metadata": {
        "colab": {
          "base_uri": "https://localhost:8080/"
        },
        "id": "PiWqAZaTFgbv",
        "outputId": "f095a1af-9552-4292-cf4f-1c83e930d6ac"
      },
      "id": "PiWqAZaTFgbv",
      "execution_count": 31,
      "outputs": [
        {
          "output_type": "execute_result",
          "data": {
            "text/plain": [
              "0          2016-02-08 00:37:08\n",
              "1          2016-02-08 05:56:20\n",
              "2          2016-02-08 06:15:39\n",
              "3          2016-02-08 06:51:45\n",
              "4          2016-02-08 07:53:43\n",
              "                  ...         \n",
              "2845337    2019-08-23 18:03:25\n",
              "2845338    2019-08-23 19:11:30\n",
              "2845339    2019-08-23 19:00:21\n",
              "2845340    2019-08-23 19:00:21\n",
              "2845341    2019-08-23 18:52:06\n",
              "Name: Start_Time, Length: 2845342, dtype: object"
            ]
          },
          "metadata": {},
          "execution_count": 31
        }
      ]
    },
    {
      "cell_type": "code",
      "source": [
        "df['Start_Time'] = pd.to_datetime(df['Start_Time'])"
      ],
      "metadata": {
        "id": "QFRedTaSGFe2"
      },
      "id": "QFRedTaSGFe2",
      "execution_count": 40,
      "outputs": []
    },
    {
      "cell_type": "code",
      "source": [
        "df['Start_Time'][0]"
      ],
      "metadata": {
        "colab": {
          "base_uri": "https://localhost:8080/"
        },
        "id": "tQW4S8A4GLJx",
        "outputId": "2eb8dd40-daa6-4d0c-ca93-7c30ac1a182b"
      },
      "id": "tQW4S8A4GLJx",
      "execution_count": 43,
      "outputs": [
        {
          "output_type": "execute_result",
          "data": {
            "text/plain": [
              "Timestamp('2016-02-08 00:37:08')"
            ]
          },
          "metadata": {},
          "execution_count": 43
        }
      ]
    },
    {
      "cell_type": "code",
      "source": [
        "df['Start_Time'][0].hour"
      ],
      "metadata": {
        "colab": {
          "base_uri": "https://localhost:8080/"
        },
        "id": "FPvRjYl1GVv_",
        "outputId": "dc1ba9db-ebcb-4564-b070-c25a78e4d9b7"
      },
      "id": "FPvRjYl1GVv_",
      "execution_count": 44,
      "outputs": [
        {
          "output_type": "execute_result",
          "data": {
            "text/plain": [
              "0"
            ]
          },
          "metadata": {},
          "execution_count": 44
        }
      ]
    },
    {
      "cell_type": "code",
      "source": [
        "sns.histplot(df['Start_Time'].dt.hour, bins = 24);"
      ],
      "metadata": {
        "colab": {
          "base_uri": "https://localhost:8080/",
          "height": 280
        },
        "id": "gyPllup5J7jQ",
        "outputId": "ec7905ec-2f63-4d4d-fc9b-5b5365934817"
      },
      "id": "gyPllup5J7jQ",
      "execution_count": 53,
      "outputs": [
        {
          "output_type": "display_data",
          "data": {
            "text/plain": [
              "<Figure size 432x288 with 1 Axes>"
            ],
            "image/png": "[encoded data removed]"
          },
          "metadata": {}
        }
      ]
    },
    {
      "cell_type": "code",
      "source": [
        "sns.distplot(df['Start_Time'].dt.hour, bins = 24, kde = False, norm_hist = True);"
      ],
      "metadata": {
        "colab": {
          "base_uri": "https://localhost:8080/",
          "height": 280
        },
        "id": "XI8GXIsqKGZw",
        "outputId": "1850e77e-47dc-4cf1-dd3b-462a46ccb6d5"
      },
      "id": "XI8GXIsqKGZw",
      "execution_count": 51,
      "outputs": [
        {
          "output_type": "display_data",
          "data": {
            "text/plain": [
              "<Figure size 432x288 with 1 Axes>"
            ],
            "image/png": "[encoded data removed]"
          },
          "metadata": {}
        }
      ]
    },
    {
      "cell_type": "markdown",
      "source": [
        "- A high percentage of accidents occur between 6 AM to 9 AM (probably people in a hurry to get to work) and most of the accidents occure between 2 PM to 6 PM (probably because of the high influx of traffic post work)\n"
      ],
      "metadata": {
        "id": "jI7EAKedK6vD"
      },
      "id": "jI7EAKedK6vD"
    },
    {
      "cell_type": "code",
      "source": [
        "sns.distplot(df['Start_Time'].dt.day_of_week, bins = 7, kde = False, norm_hist = True);"
      ],
      "metadata": {
        "colab": {
          "base_uri": "https://localhost:8080/",
          "height": 280
        },
        "id": "cbojdVD8KxPg",
        "outputId": "b093f8d9-f37b-4727-ce48-c3999c01428d"
      },
      "id": "cbojdVD8KxPg",
      "execution_count": 50,
      "outputs": [
        {
          "output_type": "display_data",
          "data": {
            "text/plain": [
              "<Figure size 432x288 with 1 Axes>"
            ],
            "image/png": "[encoded data removed]"
          },
          "metadata": {}
        }
      ]
    },
    {
      "cell_type": "markdown",
      "source": [
        "Saturdays and Sundays have fewe accidents"
      ],
      "metadata": {
        "id": "ZfSi8KStOBhx"
      },
      "id": "ZfSi8KStOBhx"
    },
    {
      "cell_type": "code",
      "source": [
        "df['Start_Time'][(df['Start_Time'].dt.day_of_week == 6)]"
      ],
      "metadata": {
        "colab": {
          "base_uri": "https://localhost:8080/"
        },
        "id": "rN7NYoraLlyX",
        "outputId": "cc6c7050-b396-4fcb-9846-0b5cb488dc04"
      },
      "id": "rN7NYoraLlyX",
      "execution_count": 59,
      "outputs": [
        {
          "output_type": "execute_result",
          "data": {
            "text/plain": [
              "154       2016-02-14 03:58:33\n",
              "155       2016-02-14 05:26:58\n",
              "156       2016-02-14 16:30:40\n",
              "157       2016-02-14 16:38:40\n",
              "158       2016-02-14 17:40:17\n",
              "                  ...        \n",
              "2843129   2019-08-18 22:48:14\n",
              "2843130   2019-08-18 23:24:10\n",
              "2843243   2019-08-18 22:56:56\n",
              "2843244   2019-08-18 22:56:56\n",
              "2843282   2019-08-18 22:54:41\n",
              "Name: Start_Time, Length: 259274, dtype: datetime64[ns]"
            ]
          },
          "metadata": {},
          "execution_count": 59
        }
      ]
    },
    {
      "cell_type": "code",
      "source": [
        "sns.distplot((df.Start_Time[df.Start_Time.dt.dayofweek == 6].dt.hour), kde = False, bins = 24, norm_hist = True);"
      ],
      "metadata": {
        "colab": {
          "base_uri": "https://localhost:8080/",
          "height": 335
        },
        "id": "joX7KR2_M2sy",
        "outputId": "66e4d16b-cb17-4f34-8560-5c442cc6865a"
      },
      "id": "joX7KR2_M2sy",
      "execution_count": 66,
      "outputs": [
        {
          "output_type": "stream",
          "name": "stderr",
          "text": [
            "/usr/local/lib/python3.7/dist-packages/seaborn/distributions.py:2619: FutureWarning: `distplot` is a deprecated function and will be removed in a future version. Please adapt your code to use either `displot` (a figure-level function with similar flexibility) or `histplot` (an axes-level function for histograms).\n",
            "  warnings.warn(msg, FutureWarning)\n"
          ]
        },
        {
          "output_type": "display_data",
          "data": {
            "text/plain": [
              "<Figure size 432x288 with 1 Axes>"
            ],
            "image/png": "[encoded data removed]"
          },
          "metadata": {}
        }
      ]
    },
    {
      "cell_type": "markdown",
      "source": [
        "The number of accidents by the hour is more spread out on Sundays"
      ],
      "metadata": {
        "id": "VyATQgdSODKA"
      },
      "id": "VyATQgdSODKA"
    },
    {
      "cell_type": "code",
      "source": [
        "df.Start_Time.dt.year.value_counts()"
      ],
      "metadata": {
        "colab": {
          "base_uri": "https://localhost:8080/"
        },
        "id": "Jaqv1BGFPQeT",
        "outputId": "3e4b8f5c-8eda-4b0c-d805-3e3a9493b8cb"
      },
      "id": "Jaqv1BGFPQeT",
      "execution_count": 69,
      "outputs": [
        {
          "output_type": "execute_result",
          "data": {
            "text/plain": [
              "2021    1511745\n",
              "2020     625864\n",
              "2019     258615\n",
              "2017     163918\n",
              "2018     163176\n",
              "2016     122024\n",
              "Name: Start_Time, dtype: int64"
            ]
          },
          "metadata": {},
          "execution_count": 69
        }
      ]
    },
    {
      "cell_type": "code",
      "source": [
        "sns.distplot((df.Start_Time[df.Start_Time.dt.year == 2021].dt.month), kde = False, bins = 12, norm_hist = True);"
      ],
      "metadata": {
        "colab": {
          "base_uri": "https://localhost:8080/",
          "height": 283
        },
        "id": "b9Jqo1MnNJiR",
        "outputId": "5402740f-21b7-441b-9a49-ed0e15ba69ef"
      },
      "id": "b9Jqo1MnNJiR",
      "execution_count": 83,
      "outputs": [
        {
          "output_type": "display_data",
          "data": {
            "text/plain": [
              "<Figure size 432x288 with 1 Axes>"
            ],
            "image/png": "[encoded data removed]"
          },
          "metadata": {}
        }
      ]
    },
    {
      "cell_type": "markdown",
      "source": [
        "It looks like most of the accidents occur during the last quarter of the year (and in some years during the first couple of months of the year), while the accident rate remains constant across months Jan to Sept. This might be because of the winter season, during which the cities experience rain, snow and the drivers suffer from reduced visibility and slippery roads. Also, more people travel during December (month with highest accidents) on account of holidays."
      ],
      "metadata": {
        "id": "YbeMEiX-OoEa"
      },
      "id": "YbeMEiX-OoEa"
    },
    {
      "cell_type": "code",
      "source": [
        "df.Start_Lat"
      ],
      "metadata": {
        "colab": {
          "base_uri": "https://localhost:8080/"
        },
        "id": "lAuVibBKOjEH",
        "outputId": "5043b668-4c94-4bca-e460-a7011737bb8d"
      },
      "id": "lAuVibBKOjEH",
      "execution_count": 85,
      "outputs": [
        {
          "output_type": "execute_result",
          "data": {
            "text/plain": [
              "0          40.108910\n",
              "1          39.865420\n",
              "2          39.102660\n",
              "3          41.062130\n",
              "4          39.172393\n",
              "             ...    \n",
              "2845337    34.002480\n",
              "2845338    32.766960\n",
              "2845339    33.775450\n",
              "2845340    33.992460\n",
              "2845341    34.133930\n",
              "Name: Start_Lat, Length: 2845342, dtype: float64"
            ]
          },
          "metadata": {},
          "execution_count": 85
        }
      ]
    },
    {
      "cell_type": "code",
      "source": [
        "df.Start_Lng"
      ],
      "metadata": {
        "colab": {
          "base_uri": "https://localhost:8080/"
        },
        "id": "bOAcuX5YSOJ-",
        "outputId": "184adc56-f365-4e1f-dfbe-68320ca779a2"
      },
      "id": "bOAcuX5YSOJ-",
      "execution_count": 86,
      "outputs": [
        {
          "output_type": "execute_result",
          "data": {
            "text/plain": [
              "0          -83.092860\n",
              "1          -84.062800\n",
              "2          -84.524680\n",
              "3          -81.537840\n",
              "4          -84.492792\n",
              "              ...    \n",
              "2845337   -117.379360\n",
              "2845338   -117.148060\n",
              "2845339   -117.847790\n",
              "2845340   -118.403020\n",
              "2845341   -117.230920\n",
              "Name: Start_Lng, Length: 2845342, dtype: float64"
            ]
          },
          "metadata": {},
          "execution_count": 86
        }
      ]
    },
    {
      "cell_type": "code",
      "source": [
        "sns.scatterplot(y = df.Start_Lat, x = df.Start_Lng, size = 0.001)"
      ],
      "metadata": {
        "colab": {
          "base_uri": "https://localhost:8080/",
          "height": 299
        },
        "id": "v8tznYq4SU_h",
        "outputId": "86d28d91-f2a4-463a-9378-a3448d309ff9"
      },
      "id": "v8tznYq4SU_h",
      "execution_count": 89,
      "outputs": [
        {
          "output_type": "execute_result",
          "data": {
            "text/plain": [
              "<matplotlib.axes._subplots.AxesSubplot at 0x7f61ead8bf90>"
            ]
          },
          "metadata": {},
          "execution_count": 89
        },
        {
          "output_type": "display_data",
          "data": {
            "text/plain": [
              "<Figure size 432x288 with 1 Axes>"
            ],
            "image/png": "[encoded data removed]"
          },
          "metadata": {}
        }
      ]
    },
    {
      "cell_type": "code",
      "source": [
        "import folium"
      ],
      "metadata": {
        "id": "_uTyTzaPTeQR"
      },
      "id": "_uTyTzaPTeQR",
      "execution_count": 90,
      "outputs": []
    },
    {
      "cell_type": "code",
      "source": [
        "lat, lon = df.Start_Lat[0], df.Start_Lng[0]\n",
        "print(lat, lon)"
      ],
      "metadata": {
        "colab": {
          "base_uri": "https://localhost:8080/"
        },
        "id": "sjBHKEZ1UZmQ",
        "outputId": "fc63c70f-36c9-4bf3-cab2-1c05133d6afb"
      },
      "id": "sjBHKEZ1UZmQ",
      "execution_count": 92,
      "outputs": [
        {
          "output_type": "stream",
          "name": "stdout",
          "text": [
            "40.10891 -83.09286\n"
          ]
        }
      ]
    },
    {
      "cell_type": "code",
      "source": [
        "map = folium.Map()\n",
        "marker = folium.Marker((lat, lon))\n",
        "marker.add_to(map)\n",
        "map"
      ],
      "metadata": {
        "colab": {
          "base_uri": "https://localhost:8080/",
          "height": 685
        },
        "id": "lVrsOdbDUjww",
        "outputId": "0fb6bdb9-c156-496c-8d1d-d4aee5b4c0fe"
      },
      "id": "lVrsOdbDUjww",
      "execution_count": 94,
      "outputs": [
        {
          "output_type": "execute_result",
          "data": {
            "text/plain": [
              "<folium.folium.Map at 0x7f61d3dbba10>"
            ],
            "text/html": [
              "<div style=\"width:100%;\"><div style=\"position:relative;width:100%;height:0;padding-bottom:60%;\"><span style=\"color:#565656\">Make this Notebook Trusted to load map: File -> Trust Notebook</span><iframe srcdoc=\"&lt;!DOCTYPE html&gt;\n",
              "&lt;head&gt;    \n",
              "    &lt;meta http-equiv=&quot;content-type&quot; content=&quot;text/html; charset=UTF-8&quot; /&gt;\n",
              "    \n",
              "        &lt;script&gt;\n",
              "            L_NO_TOUCH = false;\n",
              "            L_DISABLE_3D = false;\n",
              "        &lt;/script&gt;\n",
              "    \n",
              "    &lt;style&gt;html, body {width: 100%;height: 100%;margin: 0;padding: 0;}&lt;/style&gt;\n",
              "    &lt;style&gt;#map {position:absolute;top:0;bottom:0;right:0;left:0;}&lt;/style&gt;\n",
              "    &lt;script src=&quot;https://cdn.jsdelivr.net/npm/leaflet@1.6.0/dist/leaflet.js&quot;&gt;&lt;/script&gt;\n",
              "    &lt;script src=&quot;https://code.jquery.com/jquery-1.12.4.min.js&quot;&gt;&lt;/script&gt;\n",
              "    &lt;script src=&quot;https://maxcdn.bootstrapcdn.com/bootstrap/3.2.0/js/bootstrap.min.js&quot;&gt;&lt;/script&gt;\n",
              "    &lt;script src=&quot;https://cdnjs.cloudflare.com/ajax/libs/Leaflet.awesome-markers/2.0.2/leaflet.awesome-markers.js&quot;&gt;&lt;/script&gt;\n",
              "    &lt;link rel=&quot;stylesheet&quot; href=&quot;https://cdn.jsdelivr.net/npm/leaflet@1.6.0/dist/leaflet.css&quot;/&gt;\n",
              "    &lt;link rel=&quot;stylesheet&quot; href=&quot;https://maxcdn.bootstrapcdn.com/bootstrap/3.2.0/css/bootstrap.min.css&quot;/&gt;\n",
              "    &lt;link rel=&quot;stylesheet&quot; href=&quot;https://maxcdn.bootstrapcdn.com/bootstrap/3.2.0/css/bootstrap-theme.min.css&quot;/&gt;\n",
              "    &lt;link rel=&quot;stylesheet&quot; href=&quot;https://maxcdn.bootstrapcdn.com/font-awesome/4.6.3/css/font-awesome.min.css&quot;/&gt;\n",
              "    &lt;link rel=&quot;stylesheet&quot; href=&quot;https://cdnjs.cloudflare.com/ajax/libs/Leaflet.awesome-markers/2.0.2/leaflet.awesome-markers.css&quot;/&gt;\n",
              "    &lt;link rel=&quot;stylesheet&quot; href=&quot;https://cdn.jsdelivr.net/gh/python-visualization/folium/folium/templates/leaflet.awesome.rotate.min.css&quot;/&gt;\n",
              "    \n",
              "            &lt;meta name=&quot;viewport&quot; content=&quot;width=device-width,\n",
              "                initial-scale=1.0, maximum-scale=1.0, user-scalable=no&quot; /&gt;\n",
              "            &lt;style&gt;\n",
              "                #map_9291be4dec88fe85272db83208da782f {\n",
              "                    position: relative;\n",
              "                    width: 100.0%;\n",
              "                    height: 100.0%;\n",
              "                    left: 0.0%;\n",
              "                    top: 0.0%;\n",
              "                }\n",
              "            &lt;/style&gt;\n",
              "        \n",
              "&lt;/head&gt;\n",
              "&lt;body&gt;    \n",
              "    \n",
              "            &lt;div class=&quot;folium-map&quot; id=&quot;map_9291be4dec88fe85272db83208da782f&quot; &gt;&lt;/div&gt;\n",
              "        \n",
              "&lt;/body&gt;\n",
              "&lt;script&gt;    \n",
              "    \n",
              "            var map_9291be4dec88fe85272db83208da782f = L.map(\n",
              "                &quot;map_9291be4dec88fe85272db83208da782f&quot;,\n",
              "                {\n",
              "                    center: [0, 0],\n",
              "                    crs: L.CRS.EPSG3857,\n",
              "                    zoom: 1,\n",
              "                    zoomControl: true,\n",
              "                    preferCanvas: false,\n",
              "                }\n",
              "            );\n",
              "\n",
              "            \n",
              "\n",
              "        \n",
              "    \n",
              "            var tile_layer_1ffa0e0282e80bd5e623fae39b6794d9 = L.tileLayer(\n",
              "                &quot;https://{s}.tile.openstreetmap.org/{z}/{x}/{y}.png&quot;,\n",
              "                {&quot;attribution&quot;: &quot;Data by \\u0026copy; \\u003ca href=\\&quot;http://openstreetmap.org\\&quot;\\u003eOpenStreetMap\\u003c/a\\u003e, under \\u003ca href=\\&quot;http://www.openstreetmap.org/copyright\\&quot;\\u003eODbL\\u003c/a\\u003e.&quot;, &quot;detectRetina&quot;: false, &quot;maxNativeZoom&quot;: 18, &quot;maxZoom&quot;: 18, &quot;minZoom&quot;: 0, &quot;noWrap&quot;: false, &quot;opacity&quot;: 1, &quot;subdomains&quot;: &quot;abc&quot;, &quot;tms&quot;: false}\n",
              "            ).addTo(map_9291be4dec88fe85272db83208da782f);\n",
              "        \n",
              "    \n",
              "            var marker_f501ed6b670a0b6c647663b280c8bf0a = L.marker(\n",
              "                [40.10891, -83.09286],\n",
              "                {}\n",
              "            ).addTo(map_9291be4dec88fe85272db83208da782f);\n",
              "        \n",
              "&lt;/script&gt;\" style=\"position:absolute;width:100%;height:100%;left:0;top:0;border:none !important;\" allowfullscreen webkitallowfullscreen mozallowfullscreen></iframe></div></div>"
            ]
          },
          "metadata": {},
          "execution_count": 94
        }
      ]
    },
    {
      "cell_type": "code",
      "source": [
        "from folium.plugins import HeatMap"
      ],
      "metadata": {
        "id": "M_sj6z2XUxEL"
      },
      "id": "M_sj6z2XUxEL",
      "execution_count": 95,
      "outputs": []
    },
    {
      "cell_type": "code",
      "source": [
        "zip(list(df.Start_Lat), list(df.Start_Lng))"
      ],
      "metadata": {
        "colab": {
          "base_uri": "https://localhost:8080/"
        },
        "id": "i4df268pVpLb",
        "outputId": "83fa2b6e-f481-4894-f09d-b84d356ddb10"
      },
      "id": "i4df268pVpLb",
      "execution_count": 96,
      "outputs": [
        {
          "output_type": "execute_result",
          "data": {
            "text/plain": [
              "<zip at 0x7f61d67ca690>"
            ]
          },
          "metadata": {},
          "execution_count": 96
        }
      ]
    },
    {
      "cell_type": "code",
      "source": [
        "sample_df = df.sample(int(0.001 * len(df)))\n",
        "lat_lon_pairs = list(zip(list(sample_df.Start_Lat), list(sample_df.Start_Lng)))"
      ],
      "metadata": {
        "id": "GHen0WulVxNs"
      },
      "id": "GHen0WulVxNs",
      "execution_count": 101,
      "outputs": []
    },
    {
      "cell_type": "code",
      "source": [
        "map = folium.Map()\n",
        "HeatMap(lat_lon_pairs).add_to(map)\n",
        "map"
      ],
      "metadata": {
        "colab": {
          "base_uri": "https://localhost:8080/",
          "height": 685
        },
        "id": "_6Tks4heV13z",
        "outputId": "bdfc44ff-ccba-4bc5-a6b5-cb62e4ed5364"
      },
      "id": "_6Tks4heV13z",
      "execution_count": 102,
      "outputs": [
        {
          "output_type": "execute_result",
          "data": {
            "text/plain": [
              "<folium.folium.Map at 0x7f61eac1da50>"
            ],
            "text/html": [
              "<div style=\"width:100%;\"><div style=\"position:relative;width:100%;height:0;padding-bottom:60%;\"><span style=\"color:#565656\">Make this Notebook Trusted to load map: File -> Trust Notebook</span><iframe srcdoc=\"&lt;!DOCTYPE html&gt;\n",
              "&lt;head&gt;    \n",
              "    &lt;meta http-equiv=&quot;content-type&quot; content=&quot;text/html; charset=UTF-8&quot; /&gt;\n",
              "    \n",
              "        &lt;script&gt;\n",
              "            L_NO_TOUCH = false;\n",
              "            L_DISABLE_3D = false;\n",
              "        &lt;/script&gt;\n",
              "    \n",
              "    &lt;style&gt;html, body {width: 100%;height: 100%;margin: 0;padding: 0;}&lt;/style&gt;\n",
              "    &lt;style&gt;#map {position:absolute;top:0;bottom:0;right:0;left:0;}&lt;/style&gt;\n",
              "    &lt;script src=&quot;https://cdn.jsdelivr.net/npm/leaflet@1.6.0/dist/leaflet.js&quot;&gt;&lt;/script&gt;\n",
              "    &lt;script src=&quot;https://code.jquery.com/jquery-1.12.4.min.js&quot;&gt;&lt;/script&gt;\n",
              "    &lt;script src=&quot;https://maxcdn.bootstrapcdn.com/bootstrap/3.2.0/js/bootstrap.min.js&quot;&gt;&lt;/script&gt;\n",
              "    &lt;script src=&quot;https://cdnjs.cloudflare.com/ajax/libs/Leaflet.awesome-markers/2.0.2/leaflet.awesome-markers.js&quot;&gt;&lt;/script&gt;\n",
              "    &lt;link rel=&quot;stylesheet&quot; href=&quot;https://cdn.jsdelivr.net/npm/leaflet@1.6.0/dist/leaflet.css&quot;/&gt;\n",
              "    &lt;link rel=&quot;stylesheet&quot; href=&quot;https://maxcdn.bootstrapcdn.com/bootstrap/3.2.0/css/bootstrap.min.css&quot;/&gt;\n",
              "    &lt;link rel=&quot;stylesheet&quot; href=&quot;https://maxcdn.bootstrapcdn.com/bootstrap/3.2.0/css/bootstrap-theme.min.css&quot;/&gt;\n",
              "    &lt;link rel=&quot;stylesheet&quot; href=&quot;https://maxcdn.bootstrapcdn.com/font-awesome/4.6.3/css/font-awesome.min.css&quot;/&gt;\n",
              "    &lt;link rel=&quot;stylesheet&quot; href=&quot;https://cdnjs.cloudflare.com/ajax/libs/Leaflet.awesome-markers/2.0.2/leaflet.awesome-markers.css&quot;/&gt;\n",
              "    &lt;link rel=&quot;stylesheet&quot; href=&quot;https://cdn.jsdelivr.net/gh/python-visualization/folium/folium/templates/leaflet.awesome.rotate.min.css&quot;/&gt;\n",
              "    \n",
              "            &lt;meta name=&quot;viewport&quot; content=&quot;width=device-width,\n",
              "                initial-scale=1.0, maximum-scale=1.0, user-scalable=no&quot; /&gt;\n",
              "            &lt;style&gt;\n",
              "                #map_1aef806d4a818e49dcd31ef08d050f13 {\n",
              "                    position: relative;\n",
              "                    width: 100.0%;\n",
              "                    height: 100.0%;\n",
              "                    left: 0.0%;\n",
              "                    top: 0.0%;\n",
              "                }\n",
              "            &lt;/style&gt;\n",
              "        \n",
              "    &lt;script src=&quot;https://cdn.jsdelivr.net/gh/python-visualization/folium@master/folium/templates/leaflet_heat.min.js&quot;&gt;&lt;/script&gt;\n",
              "&lt;/head&gt;\n",
              "&lt;body&gt;    \n",
              "    \n",
              "            &lt;div class=&quot;folium-map&quot; id=&quot;map_1aef806d4a818e49dcd31ef08d050f13&quot; &gt;&lt;/div&gt;\n",
              "        \n",
              "&lt;/body&gt;\n",
              "&lt;script&gt;    \n",
              "    \n",
              "            var map_1aef806d4a818e49dcd31ef08d050f13 = L.map(\n",
              "                &quot;map_1aef806d4a818e49dcd31ef08d050f13&quot;,\n",
              "                {\n",
              "                    center: [0, 0],\n",
              "                    crs: L.CRS.EPSG3857,\n",
              "                    zoom: 1,\n",
              "                    zoomControl: true,\n",
              "                    preferCanvas: false,\n",
              "                }\n",
              "            );\n",
              "\n",
              "            \n",
              "\n",
              "        \n",
              "    \n",
              "            var tile_layer_e6e007babe6a7f85b74557b5540fe379 = L.tileLayer(\n",
              "                &quot;https://{s}.tile.openstreetmap.org/{z}/{x}/{y}.png&quot;,\n",
              "                {&quot;attribution&quot;: &quot;Data by \\u0026copy; \\u003ca href=\\&quot;http://openstreetmap.org\\&quot;\\u003eOpenStreetMap\\u003c/a\\u003e, under \\u003ca href=\\&quot;http://www.openstreetmap.org/copyright\\&quot;\\u003eODbL\\u003c/a\\u003e.&quot;, &quot;detectRetina&quot;: false, &quot;maxNativeZoom&quot;: 18, &quot;maxZoom&quot;: 18, &quot;minZoom&quot;: 0, &quot;noWrap&quot;: false, &quot;opacity&quot;: 1, &quot;subdomains&quot;: &quot;abc&quot;, &quot;tms&quot;: false}\n",
              "            ).addTo(map_1aef806d4a818e49dcd31ef08d050f13);\n",
              "        \n",
              "    \n",
              "            var heat_map_3418c0433c8ab121c5ecb26337fabcdb = L.heatLayer(\n",
              "                [[42.485351, -83.27565799999998], [36.655979, -119.799828], [42.687603, -123.392118], [32.524584000000004, -93.805786], [34.630664, -117.228013], [35.88406900000001, -78.552058], [34.055911, -118.003474], [38.87091, -76.98875], [41.767476, -72.619596], [45.007692, -93.113454], [33.99329, -118.28229], [34.072365999999995, -117.755622], [36.325068, -121.239458], [38.85112700000001, -120.022125], [33.63292, -84.40753000000002], [38.799149, -77.121943], [42.28174, -88.1105], [27.29879600000001, -82.497635], [34.146033, -118.470779], [48.075684, -122.18495], [37.417322, -77.50227199999998], [34.86123, -82.25353], [39.25205, -84.47028], [45.01039, -93.1626], [34.26283, -118.47274], [38.377112, -78.918612], [40.72693, -74.13041], [34.029941, -118.44219], [33.789709, -118.20243700000002], [24.95443, -80.58273], [36.97424, -121.98856], [35.030753000000004, -85.306706], [40.911641, -111.89123], [41.251702, -111.96979], [40.541642, -74.304624], [33.46252, -112.209323], [35.26947, -78.61764000000002], [41.897354, -72.640598], [42.17874000000001, -84.364859], [32.758446, -96.994843], [27.74838, -82.67525], [42.77234, -83.75015], [42.25833, -73.74646], [37.49268, -77.48839], [33.906188, -117.456969], [45.533913, -122.58028], [33.989208000000005, -118.062964], [40.84499, -73.902529], [25.840825, -80.32243000000003], [28.346759, -81.64961], [34.077535, -117.208774], [38.245166, -104.532858], [42.344349, -83.113512], [44.974257, -93.249202], [42.941427, -85.663886], [29.6293, -95.52127], [37.137386, -93.263726], [40.45635, -111.47023], [34.18865, -83.5903], [40.810958, -73.966945], [43.139737, -75.414437], [39.02319, -84.51919000000002], [34.023951000000004, -118.177328], [39.836373, -75.749502], [38.046917, -77.339894], [42.392245, -82.999951], [42.19715, -88.0183], [38.93707, -77.20767], [38.45628, -121.35357], [39.096591, -94.59118], [34.257870000000004, -118.47214], [38.97084, -78.429938], [33.787256, -84.246551], [39.725472, -105.113361], [38.260343, -122.060901], [32.779178, -117.071106], [33.880087, -118.28476299999998], [32.680217, -117.110384], [35.14811, -80.89556999999998], [45.368466, -122.137296], [33.819286, -117.516338], [32.878840000000004, -96.68818], [45.280934, -121.713784], [37.11898, -93.11934], [34.909425, -82.46069], [44.96399, -93.23319], [33.510864, -86.79245300000002], [33.783777, -112.099582], [45.721706, -122.87547], [38.752509, -76.992724], [41.749381, -71.442318], [33.555498, -117.139857], [38.009337, -78.464314], [38.226158, -121.42835], [35.367542, -82.488383], [30.433963, -87.254323], [34.230854, -118.398824], [40.75055, -111.71931], [35.55546, -82.85464], [40.698608, -111.88818700000002], [29.445869, -95.074272], [37.95404, -122.373479], [33.92737, -117.8022], [37.699249, -122.392792], [40.714868, -111.983461], [35.769407, -78.41848900000002], [48.183662, -101.211605], [35.141979, -83.297966], [38.562923, -121.640828], [25.6973, -80.382152], [26.545722, -81.78618], [34.21392, -119.008199], [38.73784000000001, -104.68271], [34.647399, -118.220374], [26.398571, -80.090813], [40.25358, -76.81799000000002], [37.622618, -120.995681], [38.303444, -77.502565], [29.590938, -98.598575], [42.473112, -73.806034], [29.954724, -90.071552], [37.467388, -120.867218], [34.140392, -80.79459399999998], [40.32701, -76.517379], [36.836313, -82.766212], [25.818014, -80.337676], [41.236892, -73.14674699999998], [33.886091, -118.265244], [33.874001, -118.214492], [42.37077, -87.89785], [44.433699, -93.292659], [33.77758, -84.39076], [32.359493, -93.701889], [45.307219, -93.793112], [36.104451, -95.83139], [37.126096, -120.251101], [38.674572, -121.345203], [35.275422, -81.459676], [39.60671, -77.752572], [32.81447, -96.62843], [47.52417, -92.56267], [44.75048, -117.83338], [43.009812, -71.433921], [43.206854, -77.54888199999998], [38.7793, -90.36496], [45.570294, -92.992101], [26.547965, -81.83930600000002], [41.72561, -88.033439], [34.885456, -120.431366], [29.630872, -95.493351], [36.776508, -121.71504], [33.663407, -117.297776], [36.948551, -120.047973], [45.27803, -116.3456], [37.977791, -76.738569], [32.362997, -86.136628], [33.903337, -117.462181], [40.095061, -76.291226], [32.666048, -117.080064], [35.761487, -119.223462], [41.71921, -72.79496999999998], [32.68432, -97.320709], [28.568397, -81.283842], [28.64879, -81.47270300000002], [31.84176, -106.43977], [25.629335, -80.37745699999998], [33.50184, -112.04359], [40.76869, -73.90697], [39.8046, -86.05416], [41.129282, -74.167488], [28.201594, -80.67059300000003], [40.73208, -73.87064000000002], [32.45856, -84.92908], [34.030291, -118.351325], [27.997466, -81.95686500000002], [37.920947, -122.317782], [26.201181, -80.146666], [37.493191, -122.301789], [41.365878, -75.12352299999998], [45.335538, -122.76956], [39.140506, -94.565371], [40.358573, -79.770459], [42.394163, -122.327115], [26.37208, -80.17079], [32.786794, -96.804936], [41.86597, -87.64442], [38.476297, -90.356368], [35.981644, -78.382912], [35.839238, -78.675899], [38.605394, -121.507622], [39.441905, -76.348354], [35.22577000000001, -80.85073], [40.34993, -111.76782], [35.82059, -78.743895], [39.31013, -81.48098], [47.35687, -122.24483], [46.637051, -111.941729], [33.576758, -111.88938], [32.898622, -96.763235], [39.749276, -86.143612], [43.674093, -95.174624], [38.726995, -121.392449], [38.41705, -105.03558999999998], [25.68293, -80.4006], [28.405779, -81.455956], [25.685198, -80.418289], [34.136691, -117.551562], [35.266983, -119.056014], [39.0619, -94.49635], [25.927734, -80.18823499999998], [40.509336, -80.09170999999998], [34.46759, -117.34822], [33.83159000000001, -118.28726], [36.445087, -77.62532900000002], [35.07054, -90.02428], [43.072326, -77.665936], [39.942452, -75.591587], [40.205379, -109.665087], [40.70604, -76.328864], [38.07517, -84.50241], [35.166597, -120.689845], [28.406318, -81.455923], [25.925657, -80.210616], [35.896936, -78.866547], [41.05014600000001, -76.840728], [30.41754, -91.06758], [25.894896, -80.223206], [45.4766, -122.78977], [45.332173, -93.560897], [33.872794, -118.275408], [30.15862700000001, -81.747344], [35.24658, -80.658507], [44.888688, -93.296231], [41.46699, -73.82125], [38.452626, -121.353363], [42.37072, -87.89587], [26.57325800000001, -81.871848], [30.263909, -81.855898], [33.855888, -118.011244], [35.34552100000001, -118.862608], [29.816858, -95.328694], [29.97868, -81.62861], [35.890851, -119.275306], [39.905949, -74.975662], [40.027202, -111.76053], [39.01945900000001, -77.380643], [38.39177, -121.92944], [36.78928, -76.22399], [28.553401, -81.382154], [25.951263, -80.120922], [35.441261, -119.092172], [41.05409, -73.820477], [25.9406, -80.19075], [33.462289, -112.03194], [32.837094, -96.987079], [39.649369, -77.568656], [33.88506, -117.633526], [34.233918, -117.19611299999998], [41.75649, -72.649229], [34.0171, -118.48254], [29.78404500000001, -95.481497], [42.222658, -121.791354], [34.22229, -79.64049200000002], [35.327622, -80.72762900000002], [27.298762, -82.45165300000002], [38.975533, -77.126094], [33.974578, -118.35767], [36.684654, -76.228165], [41.044645, -76.02117], [25.811501, -80.19859100000002], [36.060965, -95.862154], [47.66498, -122.32283], [39.002248, -93.801409], [39.114174, -84.50081999999998], [35.46796, -82.55033], [28.079682, -80.672586], [32.741213, -96.434084], [38.828481, -121.171536], [36.964606, -76.413227], [44.96439, -93.23352], [39.17410200000001, -76.727195], [29.685499, -95.340983], [37.7263, -122.44602], [38.540311, -121.735506], [28.450394, -81.451295], [38.554038, -121.438397], [38.91275200000001, -76.99347399999998], [36.854514, -76.179221], [43.339067, -124.364154], [28.544567, -81.416602], [43.660152, -91.790918], [37.690634, -122.127049], [34.14803, -118.07872], [27.819029, -82.673877], [39.09279, -76.80544], [33.598263, -112.271813], [45.384082, -94.009166], [37.937222, -109.346148], [34.01762, -117.81701], [42.38347, -83.17858000000003], [42.252315, -85.540662], [42.193298, -87.989452], [38.23639, -122.1008], [28.45317600000001, -81.400087], [34.174138, -118.159717], [38.886555, -77.221003], [37.979875, -121.263045], [45.685593, -111.129943], [40.024532, -75.226747], [33.917071, -118.045839], [42.13184, -72.05303], [33.730019, -80.22097], [33.811014, -118.292659], [45.91852, -119.32151], [33.534361, -86.720484], [27.84288, -82.69797700000002], [40.74434, -73.97124000000002], [39.80401, -86.00952], [45.583273, -122.768536], [34.13387, -118.35445], [40.420866, -74.21222900000002], [40.255429, -76.81048], [29.703225, -82.342802], [38.563492, -121.637715], [47.00427, -122.79139], [39.015836, -77.015501], [39.137725, -94.567314], [33.666497, -84.343897], [38.80124, -90.64792], [47.657574, -122.322449], [45.565403, -117.983639], [34.15453, -118.39248], [42.191673, -121.801332], [44.914485, -93.449431], [37.31641, -121.95618], [35.307949, -81.157097], [33.87375, -118.2216], [41.950875, -122.590137], [32.816109999999995, -96.86811], [34.66219, -86.48503000000002], [25.98899, -80.16585], [34.170191, -118.610203], [34.005253, -117.964825], [30.356365000000004, -90.991074], [38.734274, -120.774657], [28.567595, -81.20780400000002], [34.008553000000006, -117.347236], [40.122617, -76.465047], [41.583745, -106.171875], [40.975431, -74.069942], [34.11996, -118.3387], [45.147103, -122.884987], [43.981262, -123.010789], [30.286737, -95.461901], [33.277127, -80.56614499999998], [34.837996000000004, -82.28894], [42.2445, -83.320451], [33.596438, -117.654853], [33.946568, -117.278986], [25.670003, -80.438076], [40.652174, -73.961416], [32.690759, -96.846312], [34.139806, -118.365652], [30.369242, -97.705485], [33.967452, -118.250952], [37.549885, -77.434831], [28.027265000000003, -82.738258], [35.184076, -80.87869599999998], [37.48217800000001, -77.478976], [37.56422, -77.48579000000002], [35.202846, -80.72500600000002], [38.807734, -78.59997800000002], [34.045295, -117.963135], [34.068704, -117.973766], [28.620667, -81.41904], [45.042814, -93.329583], [40.726641, -111.967115], [38.623971, -121.417755], [45.66434, -122.553702], [25.747836, -80.3315], [34.501490000000004, -118.117782], [43.76679, -93.31298], [40.186947, -77.212461], [39.358102, -76.50277], [36.140643, -95.975616], [35.17334, -80.70684], [39.227807, -121.349436], [34.86714, -117.080386], [36.762579, -76.268203], [25.566523, -80.36248499999998], [35.864566, -78.714899], [44.19202, -87.7307], [40.578437, -75.74586], [38.942826, -77.204499], [33.448227, -112.037572], [33.936794, -118.368298], [40.366747, -75.939396], [25.733571, -80.300822], [43.13988, -77.635071], [34.291688, -119.152683], [32.612626, -83.74266300000002], [25.688667, -80.310654], [40.22547, -76.75836], [38.416045, -81.79856600000002], [25.716603, -80.431279], [35.775355, -78.630539], [37.424664, -120.786255], [35.51130999999999, -97.58121], [38.380114, -121.365867], [29.59192, -95.38624], [39.96667, -83.09509], [33.765190999999994, -84.515454], [41.441566, -73.632924], [33.42882, -112.06004], [37.653933, -79.809848], [35.720446, -78.641262], [38.51139600000001, -122.756186], [26.008059, -80.28280600000002], [36.992995, -119.70921], [46.21548, -123.86201], [47.247108, -122.390713], [45.026902, -93.286115], [30.266017, -97.732114], [33.84779, -117.85568], [35.402895, -119.46304], [33.996614, -118.204687], [41.110771, -80.838684], [34.221709999999995, -118.47647], [32.206843, -110.962354], [33.912886, -118.180776], [39.503885, -119.999295], [33.761157, -117.863132], [37.83498, -122.00899], [34.034929, -117.76157], [39.87227, -76.4846], [47.576605, -122.31953500000002], [37.709004, -121.081217], [33.88641, -84.26699], [38.888629, -77.39154599999998], [41.166569, -112.026032], [30.232716, -97.737954], [34.172142, -118.570924], [35.760852, -78.738924], [27.447751, -82.573305], [35.230847, -118.842405], [34.149466, -118.469084], [40.69672, -74.15508], [36.06992, -79.27481], [37.964958, -122.514632], [36.062246, -79.136034], [34.003, -118.41135], [39.633586, -104.906788], [28.206141, -82.664299], [43.659592, -93.132551], [38.892577, -77.91125100000002], [37.43031, -122.10368], [32.221384, -110.948044], [45.507012, -122.670754], [37.541254, -122.284737], [37.783924, -122.412596], [37.362756, -121.889692], [41.695295, -92.77665], [30.449775, -91.138962], [47.16907, -93.36377], [33.910215, -84.22250799999998], [42.39088, -83.00813000000002], [33.967119, -118.164796], [39.987659, -104.98729], [40.397784, -79.031666], [39.89551, -74.93898], [35.130738, -80.80812], [35.83867199999999, -78.641837], [45.50813, -122.7773], [34.154336, -118.396588], [37.49921, -79.74943], [37.769464, -122.413199], [38.001043, -78.34995699999997], [33.142386, -117.188601], [28.20818, -82.18496999999998], [30.1783, -97.783597], [38.797949, -77.573014], [45.664577, -94.756497], [37.377735, -122.067744], [43.04878, -76.14251999999998], [39.00098, -119.77951000000002], [47.63244, -122.18807], [37.798906, -122.27613999999998], [25.810374, -80.14715100000002], [27.961186, -82.454039], [34.55792, -118.13258], [37.99528, -122.28995], [34.114445, -118.00723], [38.394373, -122.71352], [35.952473, -90.825181], [42.963236, -85.66923299999998], [34.06736, -117.4311], [28.564318, -81.207224], [38.84783, -77.42603000000003], [34.15595, -118.242092], [38.034888, -120.366386], [34.181693, -117.174195], [41.5337, -72.799658], [39.600145, -77.83214], [41.169444, -80.06280699999998], [25.68619, -80.430098], [36.56675900000001, -77.892562], [28.559971, -81.194822], [34.244702000000004, -118.422146], [36.11464, -115.261001], [32.877899, -96.862797], [36.157843, -86.63056800000004], [35.755932, -78.625404], [25.831073, -80.242384], [33.739646, -80.20876700000002], [38.705273, -122.013737], [33.882334, -117.645744], [26.675805, -81.753737], [30.277843, -97.73028], [33.979831, -118.167377], [40.038189, -76.353721], [29.600105, -95.252634], [34.148994, -118.04806299999998], [39.78269, -86.150865], [33.047491, -117.232273], [36.169335, -86.76323199999999], [40.600529, -74.268969], [28.20128900000001, -80.671145], [25.8965, -80.268377], [33.68424, -112.00514], [39.591943, -104.883099], [33.30586, -111.88521], [33.83067, -117.528775], [41.303987, -122.316939], [33.990952, -118.173296], [33.752404, -117.45555], [36.89728, -119.79287], [41.787549, -87.90786], [35.426906, -118.981343], [27.440991, -82.458391], [38.101776, -122.561427], [33.885451, -79.074741], [32.65023, -117.06619], [34.20845300000001, -117.412955], [35.38195, -80.789726], [29.896385, -95.412076], [43.102058, -82.785383], [39.849461, -75.537925], [25.889492, -80.162572], [44.188479, -93.982301], [32.685382000000004, -117.112259], [30.45189, -91.10406], [44.76123, -88.56809], [42.245768, -122.773772], [40.59082, -111.901813], [34.831563, -78.980401], [25.637394, -80.385798], [36.26365, -86.717549], [25.746904, -80.384927], [33.902094, -117.560423], [37.686935, -77.67719100000002], [32.76641, -117.20558], [32.733077, -97.394862], [42.962663, -78.92075899999998], [45.106585, -123.80621], [25.928077, -80.20235699999998], [30.245434000000003, -85.924664], [38.910094, -94.695254], [35.450368, -80.870565], [26.00525, -80.16678], [34.521417, -82.595698], [47.71223300000001, -122.328558], [39.508541, -91.530222], [45.798572, -108.45877], [39.09629, -94.58468], [41.805661, -88.181258], [40.65047, -73.86824], [36.140885, -86.700122], [28.488786, -81.417497], [33.611396, -117.0996], [42.39792, -82.98566], [39.060891, -77.155842], [33.931027, -118.309118], [39.030744, -120.976302], [33.391962, -112.150931], [33.600089000000004, -117.69172], [33.891232, -117.554776], [26.547819, -81.839315], [35.21605, -80.84222], [39.065549, -76.91178599999998], [34.962302, -82.049564], [29.67429000000001, -95.57293], [26.43128, -81.809216], [47.63207, -122.18623], [38.481682, -121.397498], [31.90206, -106.40677], [43.02554, -83.51788], [34.801476, -86.676137], [42.15297, -87.87171], [33.38673, -111.68025], [33.877104, -81.55779799999998], [47.443138, -99.819899], [40.838055, -74.179837], [36.84614000000001, -76.18573], [38.746312, -77.51315799999998], [34.22166, -118.417009], [30.320599, -97.696096], [34.836047, -78.97641], [37.050314, -119.375225], [44.702728, -122.229761], [30.000805, -90.118961], [37.575949, -122.047448], [26.164736, -80.213438], [33.656384, -81.674722], [43.25363, -77.73288000000002], [38.571186, -121.325949], [25.787219, -80.186002], [33.978323, -118.127443], [34.320613, -118.496396], [33.45924, -112.51093], [35.377122, -118.927132], [25.764879, -80.352901], [45.580805, -118.586136], [40.361226, -74.292823], [34.043122, -117.550438], [34.154720000000005, -118.64925], [47.461378, -92.520918], [42.78231, -85.90101], [41.41685800000001, -73.429452], [29.623265000000004, -95.214983], [33.993488, -117.931648], [25.633886, -80.414824], [37.88178, -122.30826], [27.841877, -82.663754], [41.129036, -85.169423], [32.705714, -96.879823], [29.5205, -98.50541], [28.50914, -81.41510799999998], [33.187918, -97.109788], [35.78781, -78.58775], [38.86020300000001, -77.30750400000002], [41.87065, -87.76884], [40.857708, -73.97400999999998], [25.944441, -80.12118199999998], [25.698611, -80.38217900000002], [35.170143, -78.012381], [33.60382, -117.171521], [41.037482, -73.756113], [33.101968, -96.678004], [42.943619, -78.90805300000002], [33.690465, -117.892237], [40.65714000000001, -73.903643], [34.276959999999995, -118.42298], [29.979769, -90.056425], [40.983157, -120.794052], [38.939736, -94.567588], [44.726421, -122.13553600000002], [34.47298, -83.06033000000002], [40.430535, -111.61226299999998], [36.957648, -81.108541], [33.807726, -81.189041], [34.458141, -82.65104699999998], [32.759682, -97.197612], [30.104115000000004, -81.705662], [35.133496, -119.469183], [41.652138, -73.079465], [45.021811, -93.189883], [32.682692, -117.109675], [32.73498, -96.82382], [39.702385, -75.695577], [41.53845, -72.95855999999998], [33.85795, -98.557751], [37.134593, -121.635164], [37.03326, -76.3635], [39.06442, -76.91229], [41.83692, -87.67479], [45.02709, -122.78969], [42.85569, -76.11901999999998], [34.411515, -117.589105], [35.815594, -78.691766], [34.070566, -118.263863], [38.874353, -76.976822], [30.465225, -90.912673], [39.3845, -76.734033], [36.368726, -117.286766], [25.763164, -80.301721], [33.80657, -79.01555], [45.353246, -122.99933500000002], [48.55386, -122.35027], [25.81033, -80.14402], [45.170942, -93.029726], [34.05125, -118.00588], [35.24803499999999, -82.332841], [42.95844, -115.46948], [25.96493, -80.178294], [34.050288, -118.262802], [30.405712, -86.87117099999998], [42.19764, -87.93176], [29.497765, -98.48343], [30.686069, -86.78902], [40.061291, -75.62603100000003], [37.883787, -121.780074], [38.695795, -120.886998], [47.319011, -122.296258], [37.686924, -121.917322], [36.279076, -119.815145], [44.02473, -116.943032], [25.926591, -80.24055600000001], [38.965674, -77.286642], [47.790436, -114.173876], [25.926682, -80.233427], [34.056405, -117.166891], [32.13345, -111.06288], [25.808208, -80.26867], [38.875031, -123.103203], [25.628105, -80.341342], [37.572969, -120.935837], [32.460533, -90.141631], [33.019999, -117.115601], [25.687184, -80.384491], [35.834776, -78.640815], [28.324139, -81.547135], [29.704151, -95.562786], [34.146858, -117.482959], [39.07599, -76.95770999999998], [38.844233, -77.43871], [40.02308, -75.0348], [32.890609999999995, -117.22752], [30.279598, -97.834605], [30.413017, -84.195414], [37.78131, -122.17383999999998], [34.085339000000005, -118.23154], [37.539049, -77.530399], [42.608413, -85.35735], [35.10459, -114.117511], [30.247496, -81.595147], [25.947307, -80.15153199999997], [32.368, -86.05626], [43.0245, -88.10093], [27.664473, -82.677527], [28.031188, -82.455025], [39.58495, -123.772044], [43.39311, -123.35923], [25.645137, -80.385373], [35.016506, -85.385795], [40.22009600000001, -81.00084], [28.21703, -82.69281], [33.47318, -112.15171], [39.7128, -83.87677], [33.972641, -118.079466], [38.452559, -122.786317], [39.809614, -123.79376200000002], [39.556825, -119.559323], [41.847678, -87.919365], [45.57852000000001, -122.127574], [34.0234, -117.81167], [39.07931, -94.49073], [37.195162, -76.490638], [33.86937, -117.75076], [38.20397, -122.155046], [41.96953, -87.75901], [25.670461, -80.425503], [39.02241, -75.78732], [36.845022, -76.279267], [38.852719, -77.006328], [37.36179, -121.909498], [35.146154, -89.877144], [35.967053, -78.847549], [37.6711, -79.50618], [38.042124, -78.72091400000002], [34.065567, -117.255803], [33.603557, -81.936734], [25.733002, -80.342744], [30.032711, -89.95441], [34.185562, -118.317908], [33.385637, -111.890226], [34.757109, -111.765007], [27.93524600000001, -82.567456], [28.087998, -82.460552], [39.018621, -76.91729000000002], [45.226558, -93.612575], [28.45176, -81.15529000000002], [40.863701, -75.29536800000002], [33.911874, -118.159908], [34.411679, -117.392254], [38.074868, -121.352738], [38.454981, -121.400522], [42.05654000000001, -121.64624], [40.09071, -77.85434000000002], [34.042947, -118.272641], [32.219814, -110.823852], [38.239506, -122.089382], [25.962022, -80.187037], [36.206799, -87.728491], [32.742143, -117.112187], [42.932954, -78.779184], [37.96204, -120.410972], [39.161403, -122.901313], [28.497106, -81.44260600000001], [35.01082, -86.879657], [38.806041, -75.583912], [33.889011, -84.263559], [30.360469, -91.106622], [39.725586, -105.088809], [37.36281, -121.84308], [25.808804, -80.24979], [34.484017, -82.636297], [34.182851, -118.597534], [34.051859, -117.301692], [30.260397, -97.739338], [45.5483, -122.67861], [25.729647, -80.30274200000002], [40.7539, -111.62258], [33.308840000000004, -80.538851], [44.964991, -93.28224], [35.141422, -80.931765], [38.241221, -122.268684], [34.437049, -119.789364], [25.80803, -80.31314499999998], [45.783653, -118.110981], [35.90096, -78.65222], [34.06132, -117.396399], [39.720374, -80.53195600000002], [33.93843, -117.133666], [33.636294, -112.233308], [33.24701, -84.25836899999999], [39.073466, -94.680594], [39.73479, -105.01503], [30.250278, -81.53455799999998], [33.669340000000005, -117.8915], [25.78784, -80.209907], [43.008509, -78.956248], [29.71633, -95.4994], [29.740456, -95.641966], [36.07128, -79.155582], [38.531701, -77.358337], [37.150186, -113.483834], [25.784249, -80.201759], [34.723392, -92.260712], [37.51805, -77.44868000000002], [38.632406, -77.373072], [28.567991, -81.216828], [40.52316, -105.00131], [39.628707, -106.280934], [41.022503, -111.495117], [34.185559999999995, -118.31755], [42.33086, -83.14804000000002], [34.035340000000005, -118.32982], [25.88198, -80.242976], [43.060293, -83.805599], [40.75223, -87.04153000000002], [40.266399, -75.374679], [33.733315000000005, -117.405812], [32.779118, -117.10043], [33.890628, -118.19191200000002], [30.611337, -97.687014], [30.294774, -81.776578], [38.74661, -76.879599], [33.869015999999995, -117.757857], [30.190968, -81.682071], [39.841049, -86.24704200000002], [25.950597, -80.430554], [40.62841, -73.73722], [25.717202, -80.382762], [34.26924, -84.80771999999997], [29.970340000000004, -90.325835], [38.875111, -121.131123], [33.94265, -118.09832], [32.67622, -97.03963], [37.548469, -77.446565], [32.744569, -97.323968], [30.352882, -91.127158], [35.889789, -78.562477], [34.174591, -79.84875699999998], [45.007691, -93.28243], [28.428681, -81.374739], [28.027477, -82.209037], [44.965937, -93.279325], [37.45693, -122.288614], [40.826004, -73.85970999999998], [34.051085, -81.125186], [28.257447, -81.61624], [41.44838, -73.06730999999998], [39.859612, -121.126164], [38.461536, -121.49556], [30.117886, -82.729499], [34.120155, -117.73218500000002], [37.051497, -122.037681], [38.50812, -121.458674], [25.732167, -80.380358], [40.245741, -76.88242], [41.10638, -73.42375], [33.874528999999995, -118.193224], [46.45527, -92.862228], [37.477422, -120.584939], [37.54998300000001, -122.025213], [39.36849, -76.515198], [38.855187, -121.947181], [34.860346, -82.583189], [34.820684, -118.156081], [28.843821, -81.310683], [34.092668, -80.86056500000002], [39.596786, -84.229101], [44.91565, -122.988876], [32.89832, -97.31735], [43.63764000000001, -123.56823], [35.790291, -119.285945], [40.80713, -76.87926], [40.71824, -112.07894], [32.954221000000004, -117.244365], [40.88329, -81.43184000000002], [34.749133, -80.77855600000002], [29.732968, -95.492702], [37.496007, -122.457724], [36.88300200000001, -121.797469], [40.10777, -79.3773], [34.06462, -117.26105], [36.075066, -86.724643], [34.899351, -82.489111], [36.068662, -79.3484], [37.638487, -120.798851], [36.848516, -77.43164], [38.637695, -120.944377], [46.69733400000001, -113.213843], [42.790975, -84.514163], [36.06285, -79.53922], [34.14522, -117.28291000000002], [41.164945, -73.354371], [37.84914600000001, -122.028559], [40.380145, -74.578856], [41.901247, -87.621608], [36.158773, -86.779185], [33.214905, -86.826769], [40.891768, -74.00749], [29.973268, -90.057327], [34.068436, -117.342857], [34.2793, -118.86108], [45.50792, -122.72209], [27.300553000000004, -82.451621], [34.081694, -117.705696], [26.53474000000001, -80.073359], [33.80344, -117.50538], [37.72875, -79.43168100000003], [33.91435, -117.88273], [34.199557, -118.338675], [45.648726, -120.961187], [28.287788, -80.736926], [43.80108, -93.78647], [42.464443, -96.324015], [39.828218, -84.17964], [35.036087, -85.162702], [47.05602, -123.009678], [36.101399, -80.19523199999998], [32.825828, -97.205346], [34.109153000000006, -117.980903], [38.496168, -121.451968], [43.10399, -73.57965], [37.965048, -121.332846], [28.537089, -81.285653], [45.386047, -122.578715], [42.68018, -73.76968000000002], [42.19573, -87.95397], [45.58084, -118.61906], [37.892935, -121.282181], [39.98084, -75.10389], [39.50837, -74.679361], [28.233236, -82.637116], [34.06537, -118.70841], [40.64277, -74.64836], [42.904952, -73.22404300000002], [35.73568200000001, -119.742339], [29.005416, -81.308942], [34.120662, -118.08441], [32.751215, -96.80929], [39.99908, -80.50622], [30.320837, -81.693182], [39.7588, -84.19639000000002], [30.398466, -87.42041], [43.38944, -123.337315], [34.689293, -118.201625], [30.084509000000004, -83.13004000000002], [33.916188, -84.343936], [39.888956, -76.13855], [39.375911, -76.452924], [34.18676, -118.400784], [39.969905, -75.676662], [36.524173, -121.811054], [33.553023, -112.112321], [35.37275, -80.77982], [32.74677, -97.31936], [25.753601, -80.36440999999998], [32.759631, -97.107456], [32.8423, -96.90833], [39.06072, -77.155294], [38.734324, -76.990814], [40.11339, -75.41947900000002], [35.89043, -78.561738], [34.219182, -117.410448], [25.833295, -80.205736], [36.123308, -121.02105], [37.686615, -122.130849], [29.45351, -95.31611], [34.106701, -118.328536], [40.745578, -73.768199], [27.208803000000003, -82.490208], [36.031838, -95.883518], [40.068136, -75.66753], [37.33413400000001, -121.861213], [32.779371999999995, -117.071181], [30.342629, -81.53735400000002], [30.231948, -97.587198], [37.386985, -77.516591], [40.71907, -73.58048000000002], [38.832574, -77.115482], [38.349269, -77.961698], [35.0798, -89.90341], [30.007072, -90.076397], [33.77565, -118.27986], [36.16096, -95.95816], [25.735688, -80.335859], [27.10293, -80.258], [30.498636, -88.323329], [41.14108, -83.65902], [41.855512, -71.406598], [36.653423, -78.460635], [27.461703000000004, -82.530478], [30.493639, -91.15521], [39.255124, -120.043542], [35.208182, -80.85532099999998], [41.7512, -88.01272], [34.316481, -118.489973], [33.76943, -118.03427], [33.90394000000001, -98.518012], [38.822561, -121.299887], [37.63689, -121.88416], [37.850611, -122.028596], [28.48095, -81.458694], [33.996516, -117.927149], [38.663908, -121.357202], [33.766090000000005, -84.49851], [41.22444, -74.18395], [39.360247, -77.529219], [38.81563, -77.13780899999998], [40.71884, -74.23523], [42.297601, -85.057959], [42.28332, -88.15619000000002], [34.147787, -82.14331899999998], [25.880225, -80.357848], [44.96467, -93.28649], [37.897673, -122.09113], [33.68026, -117.32701000000002], [38.877094, -84.625178], [36.16291, -95.90799], [38.146082, -77.505769], [32.26115, -110.995], [39.701419, -86.26024699999998], [28.141683, -81.893709], [29.956502, -90.119715], [35.749307, -78.834414], [26.886402, -80.13251600000002], [33.426563, -117.149927], [33.866401, -117.717269], [42.925711, -85.666609], [40.10444, -75.196848], [35.380455, -118.940773], [37.48442, -77.396181], [33.52397, -112.1343], [40.431312, -80.02533100000002], [44.96423400000001, -93.233195], [25.950008, -80.14885], [37.53782800000001, -121.264457], [48.409533, -108.460397], [28.375291, -81.506412], [39.685527, -75.68180600000002], [39.941397, -75.00255200000002], [43.025097, -88.09177199999998], [40.743257, -73.77579200000002], [46.097411, -107.629025], [45.465234, -122.638438], [27.937599, -82.293874], [25.854745, -80.373837], [26.463111, -81.830299], [36.86863, -76.195154], [27.841877, -82.663754], [38.962787, -76.867228], [34.039935, -81.041126], [40.63472, -75.27646999999997], [36.327267, -119.358142], [35.212007, -118.739043], [36.489083, -119.600082], [35.202938, -80.738854], [45.897713, -111.517914], [29.931567, -95.411706], [29.615836, -95.556081], [34.0587, -117.54518], [33.880959999999995, -117.59985], [41.461631, -74.378357], [38.873619, -76.99136999999997], [35.024736, -118.16598], [37.25046, -121.91199], [41.319161, -72.89386800000003], [42.624088, -82.853575], [45.51952, -122.56557], [26.667393, -81.914784], [34.15681, -118.41021], [42.707301, -73.859077], [39.194584000000006, -78.225973], [38.495212, -77.38305], [28.026074, -82.763311], [36.622473, -121.671193], [34.216672, -117.288011], [30.429006, -83.452416], [30.314056, -81.66433], [39.018255, -77.10847700000002], [42.155422, -89.696007], [34.262361, -118.440451], [29.64867000000001, -95.57139], [38.41059, -122.71616000000002], [32.134318, -110.909575], [28.447931, -81.470943], [27.937937, -82.243421], [40.106713, -75.117699], [27.554839, -82.511623], [33.398408, -80.339961], [38.610785, -121.41526299999998], [28.228021, -82.648362], [25.709092, -80.458611], [34.130697, -117.945732], [37.56253, -113.18861], [33.74463, -84.39923], [36.87443, -76.29526], [45.6059, -122.68265], [37.725623, -122.401803], [32.97639, -96.71549], [34.385696, -117.118847], [41.575915, -73.90911], [36.226151, -119.118538], [37.690848, -122.08481100000002], [29.059597, -81.007823], [33.866577, -117.764813], [44.810232, -123.027395], [36.317863, -119.69964], [44.98013, -122.99219], [34.058014, -118.253949], [28.56681, -81.206435], [28.342092, -81.424361], [26.062263, -80.164371], [33.88284, -118.34995], [40.588678, -80.099183], [39.990219, -76.240611], [30.4184, -81.656984], [33.782819, -84.49588100000003], [40.79083, -77.863787], [27.298807, -82.49996999999998], [34.969656, -81.03244699999998], [30.177655, -97.769807], [41.714652, -76.473833], [40.039005, -76.310799], [34.084672999999995, -118.300442], [32.735221, -96.842992], [35.111351, -85.130072], [45.78632, -119.34158], [44.966033, -93.262542], [45.58045300000001, -122.543595], [32.342951, -90.843883], [42.9608, -85.67504], [36.803403, -76.083219], [41.37735, -72.43966], [36.83922000000001, -121.363605], [37.158779, -77.70429399999998], [34.615763, -86.899248], [38.835667, -78.568146], [40.837638, -73.930251], [36.901858, -76.423106], [30.519458, -87.143137], [29.740484, -81.536621], [35.970139, -83.924481], [41.89490900000001, -88.121627], [44.028943, -116.950482], [32.7578, -97.261708], [39.322332, -77.004257], [25.732776, -80.346216], [36.25983, -86.738518], [35.053736, -85.263898], [35.91624, -84.099884], [41.85905800000001, -123.87538700000002], [36.660455, -121.622552], [28.597377, -81.245551], [33.95943, -117.54902], [39.786754, -78.746544], [40.75996, -73.71372], [32.610307, -117.090772], [34.03391, -118.35612], [33.909563, -118.064629], [33.749964, -84.49681], [41.63278, -72.45581999999997], [41.109936, -112.04529], [37.654641, -77.451027], [39.19355, -77.26031], [37.676683, -122.117226], [33.816916, -81.27663299999998], [25.78099, -80.4183], [27.440311, -82.57099000000002], [44.145189, -117.40736], [44.969992, -93.312005], [27.516356, -80.448406], [26.441685, -81.810913], [45.20095, -123.158816], [45.37219, -93.56339], [32.820910999999995, -97.312847], [30.295041, -97.794668], [26.646767, -80.068135], [38.435499, -76.728515], [44.719757, -123.01023], [37.350806, -120.623878], [28.315581, -82.695433], [29.4032, -95.03233], [34.837709999999994, -82.28967], [48.78312, -122.49151], [34.12145, -117.30263], [28.200821, -82.739884], [34.029439, -118.220482], [37.80837, -122.241492], [37.989984, -122.133843], [33.652217, -117.408516], [46.11977, -123.346051], [40.675989, -73.494039], [39.79855, -86.11189], [43.876336, -123.027573], [25.99067, -80.16601999999997], [25.890023, -80.191946], [38.676799, -76.875489], [32.801814, -96.827339], [25.582451, -80.39130300000002], [30.803743, -86.420175], [34.012244, -118.497194], [32.22148, -110.92693], [39.17736, -84.4873], [42.381874, -83.183273], [34.033064, -81.112721], [44.97113, -93.46029], [33.823227, -118.198927], [34.106655, -79.290626], [39.844169, -104.98467], [41.48568, -112.05295], [33.999595, -117.890405], [36.23212, -77.096294], [27.567418, -81.494231], [38.361668, -75.073122], [35.242, -80.90083], [38.799447, -77.54802099999998], [34.68769, -111.74394], [44.157576, -121.260725], [25.68514, -80.366197], [37.682366, -122.126172], [39.93335, -75.19999], [33.12897, -117.11437], [35.061374, -90.01988], [36.58383, -119.880968], [45.20067, -118.01619], [38.122183, -122.313419], [33.747388, -117.832399], [34.14792, -118.03153], [32.788470000000004, -117.1483], [33.451753000000004, -81.714845], [40.775879, -74.15256099999998], [29.963161, -90.112869], [42.380405, -87.90453000000002], [37.319842, -121.897521], [40.744633, -80.107011], [33.71628, -84.25659], [25.685745, -80.400599], [36.85794, -121.36365], [41.29319, -72.91949], [41.941117, -91.669899], [37.210661, -76.584008], [42.48623, -83.46594], [25.47728, -80.542259], [43.060301, -76.568366], [39.86023, -86.39571], [32.25075, -110.873976], [38.034479, -121.072703], [30.948525, -85.40212], [42.878404, -78.874551], [34.934431, -92.417496], [36.8464, -75.99852], [25.688223, -80.330398], [32.28892800000001, -95.30348], [42.99892, -82.43244], [41.148997, -73.411289], [33.959373, -81.227685], [33.768613, -84.600383], [41.16125, -111.94013], [40.930198, -123.687504], [34.029518, -81.103037], [47.624821, -122.32869], [39.4956, -76.65024], [33.778226000000004, -117.291549], [38.644021, -121.378451], [39.137972, -121.59032], [38.52492, -121.46753], [34.035171000000005, -118.332819], [39.263172, -76.671406], [45.05077, -93.32219], [33.8229, -84.49195], [41.51194, -81.67289], [44.90736, -93.27504], [38.510677, -121.382452], [40.088257, -77.022269], [33.876332, -118.013731], [28.421876, -81.404772], [25.95068, -80.43106999999998], [25.889471, -80.155174], [28.142256, -81.46973299999998], [25.853484, -80.240217], [41.068094, -73.501727], [37.81032800000001, -122.248725], [33.461585, -112.268398], [41.0818, -74.49436], [25.84522, -80.31428299999997], [28.545816, -81.31073], [34.082566, -117.479908], [37.47942800000001, -122.173481], [33.106194, -117.093476], [38.988064, -94.552234], [40.258404, -74.513878], [36.912582, -76.262906], [40.116072, -74.725002], [34.488904999999995, -118.28635], [40.80141, -111.92046], [35.211611, -80.692261], [27.721294, -82.434066], [33.647996, -117.68262], [27.103964, -82.434198], [34.404239000000004, -118.58890900000002], [30.07083, -95.94057], [30.228162, -89.776542], [44.849741, -123.0097], [38.944655, -76.869159], [38.845285, -76.862636], [46.630665, -122.938288], [40.498993, -111.938769], [45.684212, -92.989692], [36.283675, -86.86603199999998], [34.018515, -117.519093], [25.969813, -80.250478], [38.604346, -121.275985], [35.380381, -118.948662], [38.23005, -85.7898], [25.689703, -80.2826], [40.934221, -111.409699], [45.505465, -122.673288], [41.097098, -74.04201], [38.363809, -121.96528], [28.064657, -82.73877], [28.369284000000004, -81.36089399999999], [45.53161, -122.25303999999998], [38.877106, -77.038462], [35.78652899999999, -78.643015], [41.02744000000001, -80.19035], [27.465861, -82.54489699999998], [34.492098, -118.179846], [28.55317, -81.365493], [34.14654, -118.02866000000002], [35.694752, -78.61664499999998], [32.649574, -97.321376], [35.844561, -78.680376], [33.913729, -118.114022], [28.173515, -82.364671], [41.259617, -73.53014399999998], [33.791365, -117.805658], [33.870048, -118.213412], [33.957894, -118.251474], [34.878813, -82.439285], [39.685207, -77.78763599999998], [41.125012, -78.692375], [30.357059000000003, -98.056315], [32.967958, -96.919111], [40.750453, -74.182631], [32.220836, -110.807604], [35.85120300000001, -78.622428], [33.387151, -117.174479], [40.853058, -73.960092], [40.603269, -77.42369000000002], [25.617535, -80.31053399999998], [29.717725, -95.539939], [34.010233, -118.160044], [43.925801, -91.438796], [40.033227, -75.186433], [46.13523, -123.92731], [35.084164, -118.11953], [39.27791, -76.54373000000002], [45.344148, -118.121169], [44.87784, -122.99959], [47.62991, -122.32711], [39.608083, -76.01825500000002], [42.01264000000001, -87.67464], [27.388813, -82.453212], [45.03475, -92.989386], [33.659027, -81.700801], [33.7131, -84.27198], [26.688998, -81.798952], [28.478501, -81.582614], [34.84689, -92.14942], [36.926427, -120.024311], [30.525449, -87.31331999999998], [32.361893, -86.136076], [38.564468, -121.339734], [25.902461, -80.2921], [40.37119000000001, -122.284527], [37.897483, -122.081196], [47.763692, -122.323719], [32.1779, -110.92643], [27.928364, -82.35068199999998], [32.80912, -116.91865], [43.11252, -87.91769000000002], [44.284546, -123.249636], [40.160067, -74.939516], [44.18148, -93.94919], [38.849807, -120.859728], [30.449219, -97.790755], [37.976567, -77.49283299999998], [40.108947, -79.906976], [41.82874, -88.10602], [34.02187, -117.99054], [39.766627, -75.544276], [34.034792, -118.215415], [33.656033, -117.084621], [26.341554, -81.77899000000002], [29.523222, -95.121572], [26.2178, -81.800647], [35.36327, -89.15576], [42.759998, -73.753842], [25.588939, -80.368718], [41.75664, -71.47573], [42.33181, -83.14236], [42.699962, -73.84435699999997], [48.569232, -93.393766], [41.373664, -73.610876], [42.64984000000001, -73.74840999999998], [34.051063, -118.213891], [33.774429, -118.032914], [41.90815, -87.66243], [40.343256, -111.758164], [36.204917, -119.366833], [33.85138, -118.27756], [38.432413, -120.630343], [36.039689, -86.64905999999998], [45.002805, -123.98561200000002], [42.2178, -121.83786], [44.260429, -117.181881], [30.31955300000001, -87.418018], [34.18424, -118.91613999999998], [32.893103, -97.316897], [44.95409, -93.04153], [47.710114, -111.658097], [32.271958000000005, -110.977218], [28.567801, -81.207809], [41.316372, -73.010491], [27.559476, -80.7518], [36.832241, -76.294416], [37.697886, -122.078416], [47.690544, -122.341812], [42.49073, -83.28260999999998], [39.38116, -76.55883], [34.142396999999995, -117.488313], [33.820834999999995, -117.285429], [34.03705, -118.30912], [25.808285, -80.26554300000002], [34.15458, -118.3221], [29.51719000000001, -98.39629], [41.80862, -71.40475], [33.49785, -86.78924599999998], [36.923234, -119.794784], [39.177492, -76.788285], [34.12899, -118.34702], [28.145438, -81.457146], [41.82172, -71.42016], [41.87385, -87.80816999999998], [37.555521, -122.29783], [47.02949, -93.600978], [39.396044, -120.024145], [45.89269, -119.50583], [45.20873, -122.95917], [30.441473, -91.011632], [44.882637, -93.168514], [34.178712, -118.310992], [26.394223, -80.093625], [30.299874, -97.716661], [33.91048, -118.07056], [44.888967, -93.247007], [42.963141, -85.663702], [28.373642, -81.405992], [32.9211, -96.848098], [36.061334, -79.767674], [35.35048, -89.51531], [27.896808, -82.347561], [40.11733, -79.33921], [34.15607, -112.868316], [47.689149, -114.119901], [40.981003, -77.799088], [39.008148, -122.894369], [29.39855, -98.474259], [32.658662, -97.061627], [44.89065, -122.99451], [35.14154, -118.46741000000002], [47.359471, -115.3125], [33.744267, -117.279829], [32.75963, -97.01991], [25.937268, -80.188622], [34.014001, -118.158692], [36.1807, -86.79602], [28.53698, -81.52575999999998], [32.769137, -96.806361], [38.966635, -77.18020600000001], [42.465218, -122.699253], [32.798792, -117.156347], [36.406191, -119.806219], [38.75725, -77.228409], [31.615573, -89.204939], [38.039973, -122.263529], [34.250384999999994, -81.572631], [34.965826, -90.452837], [45.22695, -122.81367], [36.842021, -76.21893299999998], [45.508612, -122.723574], [34.096974, -118.083713], [26.378762, -81.80521800000002], [36.073373, -95.974362], [45.296551, -93.789359], [34.156661, -118.413771], [29.566464, -95.145392], [36.98822, -122.00375], [37.993736, -122.119445], [34.99508, -81.99472], [41.50677, -87.31995], [38.929166, -76.975866], [37.459655, -121.924306], [38.08307, -122.11432], [33.7165, -84.25695999999998], [28.876140000000003, -81.28299], [28.990484, -82.141889], [27.59492, -81.82249], [43.012525, -83.555539], [36.178967, -95.945345], [25.898658, -80.20197900000002], [28.53554, -81.38319], [40.427602, -79.922885], [34.157749, -118.45627], [29.37899, -94.97011], [39.076326, -94.680395], [28.536838, -81.096369], [36.152924, -86.854329], [39.26555, -76.712212], [25.769715, -80.334621], [45.430911, -122.757545], [30.052456, -81.49745], [32.72064, -97.32044], [26.22525, -80.13627], [36.042226, -86.726479], [36.096234, -121.024309], [38.370367, -121.475588], [30.193528000000004, -81.730192], [28.54728, -81.24783000000002], [39.423254, -77.493762], [25.845667, -80.250772], [28.494318, -81.417325], [37.757033, -122.000048], [34.48976500000001, -118.161855], [35.028744, -120.196625], [30.453227, -81.70993], [35.55011, -80.85793000000002], [40.7403, -74.06447], [31.349476, -87.086316], [32.877183, -96.685741], [26.678842, -80.15434599999998], [34.021369, -117.103644], [38.510432, -121.453917], [25.85029, -80.17959599999998], [42.334603, -83.067187], [28.481577, -81.4587], [28.187590000000004, -80.70619], [39.125862, -121.571663], [38.351136, -121.786311], [35.29832800000001, -80.763705], [41.729818, -75.676177], [44.964967, -93.244988], [26.10934, -80.29125], [25.8171, -80.3175], [40.82521, -73.91474000000002], [46.831272, -100.768243], [45.679843, -111.046238], [44.88297, -93.16867], [47.15908, -122.48356], [40.093542, -79.035247], [39.206626, -76.57356], [35.11777, -81.854393], [25.71606400000001, -80.41524], [39.846328, -86.04396700000002], [45.04322, -123.20711], [40.40647, -104.87414], [33.494728, -82.623914], [38.874853, -76.795023], [38.228931, -122.11742], [39.091168, -122.345198], [26.909248, -80.141358], [34.26729, -118.634973], [32.873621, -117.10695], [37.50995800000001, -122.333343], [40.52786, -74.3638], [30.445498, -91.138817], [26.81532, -81.937483], [29.609488, -82.011883], [38.62373, -90.20279], [25.760886, -80.395587], [25.940916, -80.342186], [30.38875800000001, -87.07339300000002], [41.678398, -72.872575], [37.6996, -121.92803], [34.277869, -118.506396], [29.507499, -98.551158], [33.919439000000004, -117.880364], [32.63326, -96.82336], [45.59226, -122.68275], [34.132726, -81.31241800000002], [37.80771, -122.24039], [38.347532, -122.713149], [39.456545, -121.603774], [42.246068, -94.028409], [28.182146000000003, -81.303604], [33.80744, -79.0185], [28.852957, -81.660721], [45.001405, -92.958594], [28.584232, -81.41771800000002], [42.41424, -123.12818], [45.054955, -122.96963999999998], [44.90682, -93.274623], [42.964879, -83.880239], [34.022215, -118.277704], [40.57033300000001, -74.252178], [38.535877, -121.740425], [44.344497, -92.155312], [35.070375, -85.192044], [29.88077800000001, -95.485202], [40.799166, -73.48302], [28.609264000000003, -81.41595600000002], [38.68387, -76.81579], [47.97691, -122.19031], [28.665274, -81.3885], [34.01288, -117.43998], [40.09528, -78.527795], [30.579123, -87.01973199999998], [38.690451, -121.396723], [37.536684, -120.866708], [33.49629, -82.31039], [45.256841, -122.575499], [37.996183, -78.31345400000002], [33.93631, -118.09346], [36.975717, -121.905603], [36.07553, -78.772124], [38.870326, -76.985439], [39.50211, -119.99856], [36.025409, -87.02330500000002], [42.97031, -87.9153], [42.265294, -85.248852], [25.626167, -80.415723], [40.2511, -111.69585], [37.9782, -122.064734], [34.138201, -118.276501], [42.49573, -83.369477], [38.945863, -121.098293], [37.167409, -93.277101], [35.390253, -118.987645], [38.86862, -77.54026999999998], [40.755098, -78.534428], [39.88963, -75.23357], [41.842857, -91.66592], [45.33239, -122.574838], [37.777744, -77.884687], [45.49727, -122.622622], [33.579894, -86.709777], [33.927457000000004, -118.255455], [38.442281, -122.721671], [29.517635, -98.467251], [35.077811, -89.910145], [33.90505, -118.37054], [30.471882, -87.229309], [43.598377, -116.54823], [32.771186, -96.766048], [34.059258, -118.252587], [37.711182, -121.084839], [33.593589, -117.178432], [25.910063, -80.210076], [32.792551, -96.798084], [33.967386, -118.070971], [25.71377, -80.382491], [28.575652, -81.465824], [32.757596, -96.77186], [37.32753, -121.87808], [41.72711, -87.62476], [34.087369, -118.304161], [36.081531, -86.726925], [25.926172, -80.15316899999998], [38.423719, -121.395555], [32.755759999999995, -97.3191], [27.597656, -82.636738], [29.61373, -95.41827], [40.15699, -74.02083], [32.323565, -95.309777], [42.3855, -87.85538000000004], [30.443990000000003, -91.16199], [41.458168, -80.937709], [45.606866, -123.460683], [38.415162, -82.272949], [32.792577, -117.156459], [28.331004, -82.667491], [40.064668, -76.441304], [39.31687700000001, -86.511883], [26.28016, -80.12526], [36.74504, -119.820779], [40.427866, -75.93695699999998], [40.584751, -73.960036], [35.75203, -78.69556], [39.993141, -85.83881], [32.83742, -96.97721], [36.923094, -119.83059], [38.324663, -77.502769], [38.08664, -79.35231999999998], [40.64468, -75.00089], [39.03671, -76.85049000000002], [29.20298, -82.184729], [37.683502, -122.47139], [40.860348, -76.793611], [37.977451, -120.317105], [35.35696, -81.269814], [40.872895, -76.971749], [33.030032, -96.992646], [40.067629, -75.30414499999998], [37.72001, -121.65891], [33.634271000000005, -81.10090799999998], [27.955633, -82.50144300000002], [34.101620000000004, -118.47752], [44.018192, -123.978759], [33.114691, -117.100042], [25.688238, -80.329539], [34.047885, -118.266682], [34.425284000000005, -118.423635], [33.172971000000004, -87.453113], [29.494031, -82.29368000000002], [40.428316, -78.389448], [30.315345, -81.756123], [41.29718, -87.62382], [40.625821, -111.902693], [39.36134000000001, -76.77863], [39.65091, -77.75189], [40.11729, -74.07504], [42.968376, -83.72550799999998], [34.19052, -79.839957], [36.833655, -76.133104], [28.32597, -81.403722], [43.19037700000001, -77.504199], [40.85306, -73.960111], [30.407162, -81.564635], [34.365078000000004, -118.503431], [33.145432, -117.192649], [34.25315, -118.43111], [42.25993, -121.8047], [40.916623, -74.072591], [34.154540999999995, -118.38773700000002], [36.858696, -121.685765], [47.37443, -122.244004], [34.417922999999995, -119.709702], [25.953089, -80.217651], [42.24551, -123.14049], [34.741209999999995, -86.66660999999998], [39.747408, -84.23948399999998], [42.41506, -82.94033], [39.354733, -77.57928000000003], [41.00055, -73.65276], [37.323185, -121.89626], [40.73179, -111.94967], [38.736838, -77.443989], [34.631078, -118.153308], [39.341788, -120.323269], [37.399792, -77.709213], [33.93935, -117.2218], [45.311282, -118.06429], [34.116063, -118.238855], [38.554715, -121.404383], [41.11225, -73.79624], [44.997495, -123.35603600000002], [39.227093, -120.008309], [43.112991, -75.208184], [38.427575, -122.341109], [33.855921, -118.234583], [33.97029000000001, -80.95437], [38.65109, -77.30239], [28.175257, -82.689236], [36.1518, -115.22565], [42.759542, -73.489552], [26.05703, -80.16235], [34.818684999999995, -82.443614], [35.432744, -83.0802], [34.995421, -85.235389], [25.889312, -80.16566999999998], [40.116201, -86.514877], [33.797055, -117.896165], [36.24452700000001, -86.722452], [26.39227, -80.18668000000002], [28.59063, -81.37906], [32.736715000000004, -96.823571], [33.876546000000005, -118.082417], [38.80473, -77.16048], [36.676484, -80.705157], [38.975645, -76.896653], [40.02946, -76.549386], [34.13085, -117.92904], [40.47362, -74.29786999999997], [45.736857, -123.200541], [42.28107, -122.82368], [27.839152, -82.700911], [44.970044, -93.314838], [33.992459999999994, -118.40302], [25.808788, -80.337282], [33.933893, -118.280016], [33.989157, -118.285657], [39.075705, -94.680391], [34.020495000000004, -118.194105], [37.785029, -122.406754], [41.72329000000001, -72.78999], [32.879715999999995, -85.148709], [32.712052, -117.10138899999998], [40.68706, -111.8714], [34.07969600000001, -118.226848], [34.463393, -120.022696], [29.968698, -90.067729], [38.012735, -122.109508], [34.36501, -118.50347], [33.12146, -117.10221], [40.942978, -80.518991], [40.71734, -74.05596], [46.944676, -114.119743], [32.694771, -96.77868], [37.34623, -79.99043499999998], [39.171243, -75.519141], [37.400861, -122.035306], [30.458961, -81.644908], [35.640837, -78.712136], [37.321216, -120.915026], [33.50947, -112.11699], [30.197675, -90.930352], [32.271966, -110.979943], [32.740334999999995, -97.062669], [32.754779, -96.868885], [36.775027, -76.368809], [25.673689000000003, -80.326988], [40.650029, -80.094464], [35.078718, -118.974371], [41.65813, -87.58708], [36.627872, -121.587311], [25.451425, -80.491404], [27.543618, -82.4754], [37.68378, -122.12778], [37.47381, -77.59647], [39.006689, -77.153109], [38.871721, -91.368173], [27.791067, -82.706823], [40.722462, -74.146939], [27.96544500000001, -82.434361], [34.026468, -78.819079], [43.097079, -115.621222], [36.02834, -115.05642], [41.49955, -112.0562], [33.823888000000004, -117.510295], [26.58047800000001, -81.85831800000003], [34.098064, -118.314389], [38.861968, -77.87684200000002], [39.122194, -121.579631], [37.719815, -122.448383], [33.809971000000004, -79.000333], [37.834386, -77.451537], [25.688176, -80.332065], [34.768263, -80.331841], [33.967119, -118.164796], [43.018329, -83.665077], [42.22037, -71.03585], [34.05196, -118.44944], [28.610352, -81.284438], [38.88172, -77.38586], [40.10031, -75.13483000000002], [44.786678, -117.811468], [29.78447, -95.58767], [30.34419, -97.706174], [33.741837, -118.001241], [38.165337, -121.147346], [38.577589, -121.50759], [33.738133000000005, -78.913383], [32.9069, -96.72828], [33.919405, -118.044288], [34.419562, -119.686671], [40.721604, -73.97465], [41.770361, -72.677049], [25.769466, -80.33815899999998], [34.03568, -118.09821], [36.140684, -86.73218299999998], [38.87902, -77.25445], [33.99173, -117.3582], [44.79995, -122.743596], [28.69334000000001, -81.38875999999998], [33.21359, -117.389076], [40.7312, -74.12525], [37.03869, -113.5975], [34.033303000000004, -118.12502], [32.182617, -110.857916], [37.696991, -121.068302], [40.374273, -111.812442], [41.66935, -72.831641], [35.65766, -78.84869], [41.59532100000001, -90.54894], [41.548475, -76.32047800000002], [37.696334, -120.904708], [39.93176, -82.91274], [39.17833, -108.81811], [40.0755, -76.33681], [45.020866, -93.189241], [36.141299, -86.731852], [35.8536, -78.80360999999998], [39.03736, -109.28288], [34.568634, -80.60078100000001], [37.91407, -122.06679], [27.412413, -81.467906], [28.567334, -81.21276999999998], [33.6164, -84.44303000000002], [25.700672, -80.379997], [44.95185, -93.15165], [32.48963, -80.952339], [38.232501, -78.971587], [33.106194, -117.093476], [39.322338, -75.609589], [45.036231, -121.510645], [35.96834600000001, -86.806842], [25.601631, -80.377639], [30.252023, -81.76301099999998], [40.898062, -74.632152], [39.021573, -76.475844], [40.653136, -73.863283], [33.876308, -118.095713], [34.957798, -92.422431], [43.569218, -123.27361100000002], [39.060644, -121.423671], [33.786016, -117.219475], [28.373479, -81.42416899999998], [25.684801, -80.38707099999998], [25.814371, -80.369682], [40.635043, -77.57296099999998], [33.58372, -117.706785], [47.675183, -111.16719], [43.08986, -122.287477], [36.327248, -119.372109], [30.747674, -86.240369], [35.43833, -80.376098], [33.959499, -81.22735], [44.980655, -120.863825], [38.590178, -77.318053], [34.403682, -79.871268], [29.737491, -95.505065], [35.193589, -80.873207], [25.672271, -80.373938], [28.21698, -82.737442], [42.219014, -83.526161], [33.596489, -92.143359], [32.25054, -110.91553], [38.614778, -121.512155], [29.803799, -95.370348], [45.762702, -120.12839], [34.804687, -82.34982099999998], [34.10585, -118.254352], [34.272955, -118.043364], [47.49153, -122.32562], [41.540184, -120.459877], [34.034375, -118.349962], [45.35759, -122.3589], [38.981546, -122.972357], [32.749346, -97.294094], [42.9742, -71.47355999999998], [38.814324, -77.13203100000001], [34.35929, -118.55393], [38.710928, -121.212594], [44.29984, -92.68748], [33.71134, -84.21434], [25.703506, -80.33425600000002], [36.249806, -79.663341], [33.07508, -117.07052], [25.924591, -80.196159], [30.17488, -85.62501999999998], [32.435207, -93.763084], [41.25919, -111.96963], [32.23616, -110.89256], [41.84693, -87.9481], [39.71315, -86.26399], [34.005602, -118.280888], [40.727605, -74.02108], [32.80757, -96.84208], [40.205253000000006, -75.255042], [34.14772, -118.27921], [33.496301, -111.926172], [36.06032, -79.60346], [25.700068, -80.41257399999998], [25.78639, -80.19519], [41.473, -81.63277], [25.847961, -80.209277], [41.648494, -122.540248], [33.938064000000004, -118.094424], [37.02766, -76.37841999999998], [34.020057, -118.188177], [45.91711, -123.93834], [33.90253, -84.27356], [28.356890000000003, -82.69819], [40.555213, -77.27200699999999], [34.394116, -118.571066], [40.769427, -111.93922], [41.372514, -73.73371], [33.145734999999995, -87.52143000000002], [33.994936, -117.361174], [35.823036, -94.187754], [25.91048, -80.236143], [39.270723, -121.021614], [39.537773, -77.606241], [47.307064, -122.249862], [39.156374, -112.408949], [30.533834, -88.246413], [33.767843, -117.478332], [43.52439, -91.76988], [37.36142, -121.91656], [29.794373, -95.249454], [28.445623, -81.402066], [28.59727, -81.30715], [35.850519, -78.61451600000002], [45.007992, -93.203984], [33.90995, -84.35965], [29.594881, -95.470958], [37.93212, -122.40014], [39.040181, -94.350983], [28.548637, -81.379134], [35.528959, -119.620052], [45.010288, -93.18699], [31.75421, -106.3188], [37.427061, -79.876924], [40.69992, -73.96172], [33.77476, -118.04273], [35.81367, -78.60646], [30.330748, -97.71565], [29.911297, -95.412386], [30.449382, -86.633009], [46.309918, -92.826701], [25.78127000000001, -80.33677800000002], [37.99194, -122.12588999999998], [44.679109, -121.146318], [35.806943, -90.660984], [34.101085999999995, -117.199576], [25.940932, -80.30678], [38.714376, -121.564022], [38.206088, -81.83080799999998], [30.438321, -91.024231], [41.17733, -73.19524], [30.390152, -87.065107], [32.984272, -87.79259499999998], [33.75328, -117.18919], [38.54467, -121.47399], [35.529603, -119.18702], [25.78189, -80.38600000000002], [37.42017, -121.9145], [33.878971, -117.557755], [28.930848, -82.111915], [41.76988, -72.68264], [32.535899, -93.771935], [42.92792, -85.68626], [25.626124, -80.417118], [28.324524, -82.336377], [39.050205, -94.471124], [37.833212, -122.294665], [37.736045, -77.452881], [39.92169000000001, -74.94755], [37.340222, -80.001615], [45.57915, -118.60289], [35.26697700000001, -119.056683], [37.056871, -120.836827], [25.84964, -80.383516], [38.285239, -121.805301], [37.767668, -122.395851], [35.137921, -81.070524], [26.585508, -81.79539], [34.717628999999995, -79.85957900000002], [45.55185, -122.56466], [34.0368, -118.02375], [35.665695, -120.696283], [37.29521, -121.80998999999998], [38.206355, -122.015855], [38.823168, -77.461042], [29.70403300000001, -95.521071], [33.928169, -118.239164], [34.13637, -118.36072], [34.067511, -117.551776], [33.462340000000005, -112.161612], [34.0389, -118.43988], [41.94562, -88.03732], [27.447411, -82.535859], [37.698479, -121.9413], [38.67315, -121.62797], [41.85348, -88.03923], [35.216621, -90.208235], [45.120328, -121.53458700000002], [33.666765000000005, -80.79220699999998], [28.552641, -81.444799], [37.964921, -120.280971], [40.79738, -73.50305], [33.889641, -84.262955], [43.404375, -124.063099], [34.75374, -82.28641800000003], [34.521044, -117.999692], [35.080759, -81.636382], [34.076961, -117.200485], [40.0716, -75.34536], [40.681846, -73.80575400000002], [40.61134000000001, -77.558295], [34.067339000000004, -117.556922], [30.00081, -95.39827], [47.52332, -122.26999], [39.011968, -77.041443], [30.492685, -91.155548], [32.265757, -80.85866899999998], [33.288848, -117.225431], [35.788438, -78.580872], [45.06508, -93.93143], [38.589032, -121.730306], [42.84558, -84.19261], [33.961541, -118.370062], [29.662081, -95.622292], [36.059306, -79.12491899999998], [42.17528, -88.07425699999996], [40.056007, -75.33438199999998], [32.133932, -110.990558], [43.68298, -88.44181999999998], [25.928151, -80.200342], [40.85002, -73.94399], [30.525332, -87.313439], [41.092482, -73.930317], [32.704041, -117.094875], [43.63749, -95.39018], [41.531266, -87.313022], [34.717991999999995, -82.209618], [39.14053, -77.21279], [41.21857, -111.97053], [26.682195, -81.897481], [39.566777, -119.494181], [36.150681, -86.800741], [39.096479, -94.574099], [32.873453999999995, -117.20726], [31.73101, -111.05599], [25.764361, -80.265592], [25.671146, -80.40820699999998], [39.77995, -104.94299], [34.012511, -118.41851], [45.13865300000001, -93.39238], [39.804669, -84.255895], [33.899312, -84.269049], [35.297062, -80.754597], [37.991018, -122.085998], [38.703787, -121.35701], [25.826214, -80.328276], [40.755304, -73.950795], [25.78383, -80.27494200000002], [36.113251, -86.919997], [36.78604, -81.728135], [41.472077, -74.073617], [44.96542, -93.28805], [40.129569, -75.546315], [35.739987, -78.569568], [33.876932000000004, -118.185478], [45.441523, -122.741607], [41.67178, -83.6939], [40.983035, -122.429914], [41.58051, -87.2491], [34.262819, -118.441029], [25.772294, -80.163324], [38.76984, -90.77629], [45.65663, -111.069704], [32.74301, -97.06264], [34.856660999999995, -82.26548000000003], [42.36474000000001, -83.06685999999998], [33.881170000000004, -117.61765], [34.93462, -82.528726], [36.948087, -81.056821], [25.672349, -80.445258], [34.811941, -82.419236], [40.819489, -73.930637], [34.020596999999995, -118.19389], [44.969535, -93.305169], [37.224108, -121.779456], [34.066485, -117.220741], [34.023652, -117.752895], [28.60262100000001, -81.386137], [34.138837, -79.68548], [34.354764, -117.437871], [40.246821, -75.29019699999998], [43.572667, -116.238237], [39.276198, -76.72539300000003], [33.181077, -117.335755], [30.603414, -87.117898], [25.89991400000001, -80.16134100000002], [38.336037, -77.112474], [26.43936, -80.09232], [42.354239, -122.869831], [34.221328, -118.244959], [34.064713, -118.245633], [35.11192, -89.86994], [37.816818, -120.29917], [41.313561, -93.778384], [27.475213, -82.46476700000002], [25.939643, -80.362567], [28.547147, -81.622527], [43.8984, -92.23753], [37.865851, -122.20706], [32.28655, -110.96979], [41.20695900000001, -73.190692], [38.858312, -77.366564], [35.168721000000005, -80.822476], [37.111907, -121.015115], [38.98469, -77.0266], [44.685178, -123.053371], [40.030051, -75.10321400000002], [37.775936, -122.438045], [28.449866, -81.363704], [37.674955, -122.115387], [40.400829, -76.32250400000002], [47.397669, -121.398292], [45.62054000000001, -123.41731], [38.737914, -121.272018], [26.133116, -80.391823], [40.802117, -73.916498], [39.071217, -122.781981], [45.497338, -122.67329], [40.464998, -74.286059], [42.356043, -83.080991], [33.43587, -112.25433999999998], [29.951655, -90.096051], [39.065211, -77.468952], [37.27903, -121.8068], [29.745099, -95.441613], [32.755208, -117.12506100000002], [38.66283, -80.732935], [44.969552, -93.305331], [30.160393, -82.651957], [33.51945300000001, -86.85854300000004], [35.941986, -84.002101], [30.664277, -91.191266], [33.995402, -117.939932], [25.66299200000001, -80.416159], [38.939215, -77.25143800000002], [33.617072, -117.692616], [34.040732, -81.091516], [25.776361, -80.482116], [39.7068, -78.1808], [32.975476, -80.076549], [38.259031, -85.723547], [45.572856, -122.632679], [25.973094, -80.35212299999998], [46.53232, -112.823257], [37.58451, -77.44736999999998], [40.771647, -111.939235], [27.89421, -82.74592], [39.9773, -83.14768000000002], [33.920786, -118.200228], [36.944678, -119.912154], [42.337946, -123.331852], [37.4853, -77.46526999999998], [45.522671, -118.441116], [41.71862, -87.62521], [32.727215, -117.071088], [37.351636, -121.914338], [25.714343, -80.41640100000002], [28.454246, -81.399773], [45.5699, -122.5509], [34.04415, -118.06437], [37.160434, -121.984623], [43.01491, -91.220849], [45.76980800000001, -92.989623], [32.198084, -110.927184], [43.175799, -77.57673], [37.84147100000001, -77.450974], [34.055456, -117.125808], [25.988878, -80.16583], [25.77004, -80.313908], [37.401631, -77.34298100000002], [38.862794, -77.381461], [34.029034, -118.202791], [37.607885, -120.308178], [34.152228, -118.282411], [33.869916, -117.74948], [35.252178, -80.844102], [34.050565, -118.214083], [35.315651, -80.78193], [33.261809, -117.15838], [28.338192, -82.501319], [33.970799, -118.24767], [38.708449, -76.8777], [25.685763, -80.35229100000002], [44.96691, -93.22373], [33.928023, -118.237041], [40.2598, -75.64078], [25.815149, -80.322385], [26.18247, -80.15279], [41.30064, -72.91830999999998], [25.685477, -80.414796], [29.732034, -95.459687], [38.621717, -121.423183], [34.281944, -118.727778], [33.960712, -118.282704], [32.329482, -90.161655], [38.539456, -121.475395], [33.86898, -117.73051], [33.928464, -118.239065], [28.450759, -81.463054], [37.80002, -122.2242], [42.590914, -79.05161899999997], [27.938473, -82.285761], [34.052242, -118.243328], [39.6952, -75.62009], [45.068889, -93.297282], [45.18934, -93.5435], [44.806, -117.81378], [43.098938, -77.732607], [44.973767, -93.088495], [45.631736, -93.616272], [38.858982, -76.993383], [44.649703, -123.651978], [43.195961, -77.68013499999998], [41.987074, -91.661843], [41.295598, -72.763548], [28.53053400000001, -81.45942600000002], [40.063787, -75.32700899999998], [45.712992, -121.52266000000002], [35.531893, -81.856246], [39.265083, -76.56225], [38.905838, -77.03157], [34.941931, -81.971779], [35.980976, -78.701966], [34.117512, -117.849715], [26.691319, -80.09027900000002], [28.577281, -81.416306], [34.406069, -119.544471], [34.205, -118.19621], [33.97698, -118.060822], [40.121179, -75.34169], [38.416617, -121.831936], [33.737759999999994, -84.39183], [28.551918, -81.49074], [40.156674, -75.142689], [37.73869000000001, -121.59449], [25.811419, -80.194631], [33.84573, -117.95899], [41.3079, -74.02638], [34.06621, -118.017464], [40.771433, -73.871261], [33.4612, -112.08812], [30.535441, -91.11003], [25.808804, -80.24979], [44.229666, -121.456226], [35.18592, -80.72998], [32.221552, -110.877868], [40.6335, -74.194], [38.703324, -121.354302], [34.07873, -117.98792], [44.232913, -122.055808], [25.940223, -80.262168], [40.27426, -111.71822], [34.421895, -79.288178], [33.939081, -117.095762], [35.26191, -80.84965], [36.924802, -79.376446], [38.01875, -121.93735], [45.58486, -122.67959], [29.824243, -95.379942], [30.403622, -81.564785], [27.813703000000004, -82.700092], [36.524788, -119.279028], [29.156098, -82.134349], [40.52440900000001, -74.25314200000003], [41.025094, -73.69165600000002], [39.895981, -75.108064], [33.672016, -78.99078], [35.163849, -80.87602700000002], [34.281109, -112.118943], [33.893063, -118.22853], [39.824677, -110.949457], [32.74534, -117.1884], [40.312188, -79.357843], [40.904313, -74.11475899999998], [41.05903, -73.838306], [40.331357, -74.274626], [32.894879, -96.803981], [38.339473, -75.123049], [40.069792, -76.313671], [28.201089, -82.64831099999998], [25.926745, -80.236508], [29.760108, -95.217747], [32.749748, -117.10897], [44.919597, -93.482345], [33.912445, -118.17947], [33.966231, -118.121164], [28.447028000000003, -81.476688], [41.591678, -93.681547], [29.112005, -82.02076], [39.242788, -94.513868], [39.55894, -105.00025], [44.943782, -93.346342], [33.950431, -117.385449], [35.929049, -90.587582], [37.33388, -122.04951], [32.265115, -110.900971], [37.472662, -122.205345], [33.928813, -81.238579], [28.552986, -81.393835], [40.6419, -111.80852], [25.806911, -80.31311600000002], [33.982731, -118.14253], [29.662174, -95.358704], [34.541015, -82.817165], [38.550536, -121.365961], [37.680476, -121.050249], [39.018191, -76.922267], [41.125172, -73.425431], [41.80979, -87.98561], [28.096592, -82.747147], [33.99575, -117.356083], [29.749647, -95.365633], [33.931027, -118.309118], [45.445049, -122.736627], [39.25931, -123.220285], [32.323234, -111.046004], [38.830114, -77.43476], [37.48793, -121.931566], [25.769356, -80.344413], [45.72867, -120.55839], [38.019094, -121.946602], [39.388523, -76.43866700000002], [32.18452, -111.099092], [25.686038, -80.39844699999998], [29.701915000000003, -95.293128], [40.17547800000001, -77.255859], [34.011114, -118.281553], [34.054253, -118.237843], [38.9309, -94.65537], [30.775827000000003, -85.958731], [34.585815999999994, -82.741291], [39.9966, -83.11819], [38.536144, -77.815765], [38.464364, -121.374117], [40.232115, -77.130557], [38.568328, -121.467146], [41.433616, -73.407329], [45.436882, -122.991147], [37.88192100000001, -122.308248], [34.156305, -118.264355], [34.01377100000001, -118.172485], [43.3509, -118.58402], [34.08701, -117.68588], [28.004389, -80.563808], [34.066957, -117.670072], [30.323884000000003, -81.527521], [45.52114, -122.4726], [32.791418, -96.736902], [34.033627, -118.389555], [33.93224, -118.28082], [31.801765000000003, -106.302736], [34.2105, -117.407433], [34.297429, -118.417113], [30.370805, -81.668864], [34.73056, -92.2632], [39.139604, -86.953335], [34.338738, -118.506947], [37.347216, -121.841767], [37.251069, -120.379307], [37.833695, -122.294093], [38.86389000000001, -76.99537600000002], [37.958929, -122.051871], [44.895864, -93.180056], [43.209515, -77.692962], [33.722755, -117.799955], [28.331576, -82.69935], [28.68761, -81.38861], [34.066832, -117.9878], [38.593517, -121.382899], [33.446111, -117.59533], [37.495232, -122.369424], [33.493169, -80.500591], [28.56232, -81.37853], [27.896153, -82.339793], [26.211977, -81.80055], [27.864819, -82.32655], [34.26817, -111.322005], [25.954303, -80.275113], [26.364129, -80.119825], [42.73953, -78.84961700000002], [45.372387, -122.586146], [34.149755, -118.664847], [40.740327, -73.738344], [42.233666, -87.901557], [36.645509, -121.817146], [45.441523, -122.741607], [34.151643, -118.282041], [39.05964, -84.42555], [46.836476, -100.444805], [37.635145, -122.086808], [44.783122, -93.431083], [37.9034, -122.06981], [36.32053300000001, -121.892493], [34.047178, -117.800742], [30.454214, -91.166041], [34.029539, -118.215261], [34.513444, -81.870336], [33.7284, -83.69584], [37.741854, -121.575307], [26.149984, -80.168475], [36.154521, -86.815449], [33.873757, -118.221614], [27.44775, -82.573809], [47.830297, -114.349779], [34.273312, -119.134336], [34.633208, -82.114535], [39.716402, -75.155314], [34.061929, -117.180249], [44.780133, -93.412595], [32.760576, -117.192717], [40.78435, -73.94199], [33.134667, -117.128568], [40.292068, -74.06438399999998], [37.4968, -122.23447], [32.707923, -97.231702], [40.69994000000001, -111.89974], [39.50573, -77.585054], [34.157642, -118.453141], [37.31856, -121.88965], [38.813335, -77.144336], [29.212957, -81.100827], [40.945519, -73.848713], [27.810796000000003, -82.63853], [34.055927000000004, -117.396405], [25.898568, -80.209938], [29.76763, -95.357321], [28.990484, -82.141889], [37.791091, -79.888447], [28.500876, -81.396961], [34.02998, -117.58023], [37.185712, -122.002178], [33.601108, -80.27636899999997], [33.891609, -114.526627], [41.288713, -72.816792], [25.527063, -80.477777], [37.758286, -121.34485], [47.716932, -122.324769], [30.526521, -87.27470799999998], [37.885902, -120.407102], [29.703826, -95.572373], [38.62824000000001, -77.29342], [36.139944, -86.80044699999998], [32.206685, -110.978994], [34.09723, -118.31378], [36.783177, -76.395391], [44.600894, -92.770657], [25.955616, -80.120349], [27.847135, -82.67803599999998], [26.614239, -81.655301], [42.545568, -79.17264899999998], [42.502194, -83.556062], [36.127489, -86.629532], [34.868558, -82.438785], [25.697391, -80.382152], [38.8688, -77.047], [33.679970000000004, -117.76089], [25.685255, -80.41664499999997], [37.304487, -121.878779], [30.547346, -97.692478], [38.467104, -122.806862], [35.984243, -119.963204], [38.94731, -76.83556], [33.86612, -117.765042], [25.639505, -80.41469000000002], [33.97867, -118.07803], [34.467576, -81.804645], [37.998477, -120.383681], [39.674798, -75.595803], [44.25386, -93.28652], [33.933679999999995, -118.100429], [37.860702, -121.280551], [43.547893, -96.761134], [25.80157, -80.32123], [34.040849, -118.082117], [33.59839, -117.677317], [36.787666, -76.424514], [35.091866, -119.033721], [30.148855, -97.792986], [45.844053, -93.431517], [25.7968, -80.325484], [25.689627, -80.382521], [38.023104, -121.928299], [25.93371, -80.121845], [32.323386, -90.159011], [43.156243, -75.744038], [40.138949, -76.22232199999998], [37.348906, -77.35715400000002], [37.368581, -77.403915], [41.56312, -87.74254], [32.65217, -117.06859], [27.294404, -82.530506], [39.89995, -86.05017], [47.561672, -113.736316], [42.230914, -83.60682299999998], [42.900074, -83.726171], [35.03032, -85.18088], [34.189791, -79.801917], [41.219757, -73.080416], [32.81768, -117.11517], [38.22248, -85.50071], [44.05525, -123.10083], [41.75543, -87.94465], [38.596028, -121.403176], [36.950057, -121.552809], [41.324125, -72.254005], [26.546464, -81.848341], [36.596598, -119.28711], [40.73558, -74.17213000000002], [34.059503, -118.172833], [33.949774, -118.170325], [25.830912, -80.250012], [40.725675, -112.032368], [29.776904, -82.51737], [45.44502, -122.736852], [40.5935, -111.9027], [33.74227, -84.391459], [38.71279000000001, -120.8384], [37.604779, -122.384004], [40.988084, -73.66721700000002], [32.81268, -97.20838], [44.937739, -93.274546], [44.681778, -93.293229], [35.171066, -92.696424], [33.66958, -117.82266], [43.12476, -75.594617], [38.115902, -122.107618], [39.911669, -120.81365], [39.61985, -104.89914], [38.663248, -121.322791], [38.479958, -121.371817], [43.082252, -75.294724], [45.695217, -121.33821100000002], [32.8739, -96.89827], [44.193374, -123.229777], [34.141113, -81.189566], [29.71162600000001, -95.577306], [40.859302, -73.915897], [46.838439, -92.912009], [37.752501, -122.402997], [44.93657, -92.96069], [34.938734000000004, -82.227199], [28.32323400000001, -81.336556], [39.301326, -120.663629], [43.832872, -121.424322], [32.239904, -86.376221], [32.87173, -96.678113], [35.182699, -120.701441], [28.087956, -82.461743], [42.051934, -83.26974799999998], [38.921194, -76.85294], [33.920612, -118.029112], [32.741473, -97.224842], [29.88387, -90.09892], [33.1679, -117.344788], [40.78377, -73.62621999999998], [34.230851, -118.39878600000002], [41.546088, -73.021632], [42.38827, -83.21779000000002], [39.739085, -76.58173000000002], [32.893772, -96.711138], [47.2397, -122.38539], [38.869162, -78.529115], [37.364009, -121.843453], [40.149686, -76.384279], [25.925341, -80.153943], [37.25982, -121.96836299999998], [35.148053000000004, -80.829296], [38.703597, -77.87439599999998], [40.73664, -111.9492], [38.036299, -122.264867], [40.169624, -86.548525], [28.750866, -81.3654], [35.37018, -80.83143000000003], [38.760436, -120.529056], [40.12975, -74.69282], [39.959583, -75.175444], [37.66502, -122.10668], [28.382681, -81.352409], [39.374238, -76.750348], [45.013102, -93.282391], [39.05145, -94.789899], [42.171705, -88.07132800000002], [45.729399, -120.652574], [41.18048, -73.14565999999998], [28.421099, -81.428875], [35.223569, -80.72505], [36.975165, -121.893076], [25.880138, -80.355719], [27.923159, -82.730337], [33.607240000000004, -83.87659000000002], [43.005147, -112.409643], [40.01628400000001, -75.05166700000002], [36.17381, -115.21396], [41.68336, -88.07118], [38.820179, -77.645348], [34.140733000000004, -118.471144], [29.892858, -97.912707], [34.064836, -118.158191], [32.94245, -80.05221999999998], [32.414917, -80.648888], [40.283587, -76.983334], [34.148654, -118.041488], [37.363793, -77.945068], [29.76969, -95.45592], [36.751555, -119.835577], [38.58005, -121.505162], [37.896298, -122.207058], [38.096291, -121.386615], [39.840642, -85.55419499999998], [43.638993, -96.218208], [34.068589, -118.151171], [41.802238, -124.054173], [26.693415, -81.436953], [41.8714, -87.74908], [41.750369, -88.040058], [33.84227, -84.2476], [30.226148, -97.706246], [36.080747, -86.686229], [25.698611, -80.38217900000002], [36.046346, -79.765709], [41.80036, -71.32616999999998], [37.47073, -76.900941], [36.391845, -121.606225], [37.805188, -122.473171], [37.458261, -79.835468], [27.947298, -82.36416899999998], [33.500467, -81.907703], [34.153661, -118.325732], [39.154465, -108.301778], [36.149495, -86.782656], [33.799671000000004, -117.503039], [34.297159, -118.417328], [33.941026, -118.279677], [33.951968, -118.090536], [32.513917, -93.723583], [45.2653, -123.02244], [34.075334999999995, -117.619622], [33.992459999999994, -118.40302], [38.6298, -121.394208], [30.36329000000001, -97.71768], [38.67866, -121.244348], [40.74324, -73.83293], [39.005852, -77.074016], [43.679806, -92.97932], [26.549767, -81.852808], [27.923913, -82.401878], [35.306739, -111.542681], [34.751138, -86.755051], [40.87148, -74.00007], [42.39197, -83.0042], [30.432074, -91.161539], [35.863192, -78.712552], [37.08115, -120.203397], [39.378358, -77.407103], [43.256298, -122.21206], [25.819679, -80.240553], [28.407351, -81.45494000000002], [37.05178400000001, -122.069697], [30.003828, -90.040021], [37.596446, -122.055074], [29.73281, -95.501301], [35.44395, -82.53838], [33.989533, -118.40071299999998], [46.788411, -92.106183], [38.429055, -122.768604], [37.74218, -121.52564], [36.779616, -119.781545], [38.23516, -122.461081], [29.893521000000003, -95.589068], [34.344593, -118.90996], [40.978066, -73.85641600000002], [43.121155, -77.740577], [38.749209, -75.180347], [47.65678, -122.32231000000002], [36.44288, -119.188592], [38.79586, -77.138], [37.173179, -121.992783], [37.98115900000001, -78.222687], [33.991466, -118.282681], [39.05358, -94.47833], [33.437759, -79.128827], [29.681279, -95.353632], [33.629075, -84.40039499999997], [40.258035, -76.81118000000002], [38.939217, -78.132214], [39.93754600000001, -77.062072], [37.422447, -120.766718], [35.30916, -80.71875], [45.30999, -95.009207], [40.048674, -76.252444], [33.654826, -79.437113], [35.05473, -80.85037], [39.382413, -76.446057], [45.034818, -92.952076], [44.185304, -117.1369], [27.4859, -82.4694], [35.313463, -80.810524], [38.88166500000001, -77.009035], [41.01107, -121.649185], [28.472155, -81.43588100000002], [34.08837, -117.54484], [33.682314, -79.00058100000003], [32.545794, -83.16157700000002], [33.830758, -118.277698], [41.53867, -72.95801], [35.93832000000001, -84.00865], [30.447109, -97.799425], [34.023340999999995, -118.171302], [40.844731, -73.92514399999997], [36.157629, -86.770912], [36.754849, -119.754011], [32.717832, -117.153815], [45.151072, -122.881726], [38.397555, -122.783203], [39.77294000000001, -104.86571], [40.123435, -74.974627], [43.173964, -77.572583], [34.969551, -81.903479], [39.467576, -104.987715], [27.432972, -82.560491], [40.718065, -112.114229], [45.90848, -92.96661]],\n",
              "                {&quot;blur&quot;: 15, &quot;maxZoom&quot;: 18, &quot;minOpacity&quot;: 0.5, &quot;radius&quot;: 25}\n",
              "            ).addTo(map_1aef806d4a818e49dcd31ef08d050f13);\n",
              "        \n",
              "&lt;/script&gt;\" style=\"position:absolute;width:100%;height:100%;left:0;top:0;border:none !important;\" allowfullscreen webkitallowfullscreen mozallowfullscreen></iframe></div></div>"
            ]
          },
          "metadata": {},
          "execution_count": 102
        }
      ]
    },
    {
      "cell_type": "markdown",
      "source": [
        "## Ask & answer questions\n",
        "\n",
        "1. Are there more accidents in warmer or colder areas?\n",
        "2. Which 5 states have the highest number of accidents? How about per capita?\n",
        "3. Does New York show up in the data? If yes, why is the count lower if this the most populated city.\n",
        "4. Among the top 100 cities in number of accidents, which states do they belong to most frequently.\n",
        "5. What time of the day are accidents most frequent in? - ANSWERED\n",
        "6. Which days of the week have the most accidents?\n",
        "7. Which months have the most accidents?\n",
        "8. What is the trend of accidents year over year (decreasing/increasing?)\n",
        "9. When is accidents per unit of traffic the highest."
      ],
      "metadata": {
        "id": "-Z9TI3bBWp3i"
      },
      "id": "-Z9TI3bBWp3i"
    },
    {
      "cell_type": "code",
      "source": [],
      "metadata": {
        "id": "UnJKsvCvWnGy"
      },
      "id": "UnJKsvCvWnGy",
      "execution_count": null,
      "outputs": []
    }
  ],
  "metadata": {
    "kernelspec": {
      "display_name": "Python 3 (ipykernel)",
      "language": "python",
      "name": "python3"
    },
    "language_info": {
      "codemirror_mode": {
        "name": "ipython",
        "version": 3
      },
      "file_extension": ".py",
      "mimetype": "text/x-python",
      "name": "python",
      "nbconvert_exporter": "python",
      "pygments_lexer": "ipython3",
      "version": "3.9.12"
    },
    "colab": {
      "provenance": [],
      "collapsed_sections": []
    }
  },
  "nbformat": 4,
  "nbformat_minor": 5
}